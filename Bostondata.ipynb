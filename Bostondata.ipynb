{
  "nbformat": 4,
  "nbformat_minor": 0,
  "metadata": {
    "colab": {
      "provenance": []
    },
    "kernelspec": {
      "name": "python3",
      "display_name": "Python 3"
    },
    "language_info": {
      "name": "python"
    }
  },
  "cells": [
    {
      "cell_type": "code",
      "execution_count": 40,
      "metadata": {
        "id": "zzu2Y-ogdwCV"
      },
      "outputs": [],
      "source": [
        "import pandas as pd\n",
        "import numpy as np\n"
      ]
    },
    {
      "cell_type": "code",
      "source": [
        "df=pd.read_csv('BostonHousing.csv')\n",
        "df.head()"
      ],
      "metadata": {
        "colab": {
          "base_uri": "https://localhost:8080/",
          "height": 206
        },
        "id": "v4OLlSBwfKbp",
        "outputId": "04358cce-e876-4fbf-95b6-e016e81ef004"
      },
      "execution_count": 41,
      "outputs": [
        {
          "output_type": "execute_result",
          "data": {
            "text/plain": [
              "      crim    zn  indus  chas    nox     rm   age     dis  rad  tax  ptratio  \\\n",
              "0  0.00632  18.0   2.31     0  0.538  6.575  65.2  4.0900    1  296     15.3   \n",
              "1  0.02731   0.0   7.07     0  0.469  6.421  78.9  4.9671    2  242     17.8   \n",
              "2  0.02729   0.0   7.07     0  0.469  7.185  61.1  4.9671    2  242     17.8   \n",
              "3  0.03237   0.0   2.18     0  0.458  6.998  45.8  6.0622    3  222     18.7   \n",
              "4  0.06905   0.0   2.18     0  0.458  7.147  54.2  6.0622    3  222     18.7   \n",
              "\n",
              "        b  lstat  medv  \n",
              "0  396.90   4.98  24.0  \n",
              "1  396.90   9.14  21.6  \n",
              "2  392.83   4.03  34.7  \n",
              "3  394.63   2.94  33.4  \n",
              "4  396.90   5.33  36.2  "
            ],
            "text/html": [
              "\n",
              "  <div id=\"df-85dfa751-0446-4053-94a1-37cc72409ebe\" class=\"colab-df-container\">\n",
              "    <div>\n",
              "<style scoped>\n",
              "    .dataframe tbody tr th:only-of-type {\n",
              "        vertical-align: middle;\n",
              "    }\n",
              "\n",
              "    .dataframe tbody tr th {\n",
              "        vertical-align: top;\n",
              "    }\n",
              "\n",
              "    .dataframe thead th {\n",
              "        text-align: right;\n",
              "    }\n",
              "</style>\n",
              "<table border=\"1\" class=\"dataframe\">\n",
              "  <thead>\n",
              "    <tr style=\"text-align: right;\">\n",
              "      <th></th>\n",
              "      <th>crim</th>\n",
              "      <th>zn</th>\n",
              "      <th>indus</th>\n",
              "      <th>chas</th>\n",
              "      <th>nox</th>\n",
              "      <th>rm</th>\n",
              "      <th>age</th>\n",
              "      <th>dis</th>\n",
              "      <th>rad</th>\n",
              "      <th>tax</th>\n",
              "      <th>ptratio</th>\n",
              "      <th>b</th>\n",
              "      <th>lstat</th>\n",
              "      <th>medv</th>\n",
              "    </tr>\n",
              "  </thead>\n",
              "  <tbody>\n",
              "    <tr>\n",
              "      <th>0</th>\n",
              "      <td>0.00632</td>\n",
              "      <td>18.0</td>\n",
              "      <td>2.31</td>\n",
              "      <td>0</td>\n",
              "      <td>0.538</td>\n",
              "      <td>6.575</td>\n",
              "      <td>65.2</td>\n",
              "      <td>4.0900</td>\n",
              "      <td>1</td>\n",
              "      <td>296</td>\n",
              "      <td>15.3</td>\n",
              "      <td>396.90</td>\n",
              "      <td>4.98</td>\n",
              "      <td>24.0</td>\n",
              "    </tr>\n",
              "    <tr>\n",
              "      <th>1</th>\n",
              "      <td>0.02731</td>\n",
              "      <td>0.0</td>\n",
              "      <td>7.07</td>\n",
              "      <td>0</td>\n",
              "      <td>0.469</td>\n",
              "      <td>6.421</td>\n",
              "      <td>78.9</td>\n",
              "      <td>4.9671</td>\n",
              "      <td>2</td>\n",
              "      <td>242</td>\n",
              "      <td>17.8</td>\n",
              "      <td>396.90</td>\n",
              "      <td>9.14</td>\n",
              "      <td>21.6</td>\n",
              "    </tr>\n",
              "    <tr>\n",
              "      <th>2</th>\n",
              "      <td>0.02729</td>\n",
              "      <td>0.0</td>\n",
              "      <td>7.07</td>\n",
              "      <td>0</td>\n",
              "      <td>0.469</td>\n",
              "      <td>7.185</td>\n",
              "      <td>61.1</td>\n",
              "      <td>4.9671</td>\n",
              "      <td>2</td>\n",
              "      <td>242</td>\n",
              "      <td>17.8</td>\n",
              "      <td>392.83</td>\n",
              "      <td>4.03</td>\n",
              "      <td>34.7</td>\n",
              "    </tr>\n",
              "    <tr>\n",
              "      <th>3</th>\n",
              "      <td>0.03237</td>\n",
              "      <td>0.0</td>\n",
              "      <td>2.18</td>\n",
              "      <td>0</td>\n",
              "      <td>0.458</td>\n",
              "      <td>6.998</td>\n",
              "      <td>45.8</td>\n",
              "      <td>6.0622</td>\n",
              "      <td>3</td>\n",
              "      <td>222</td>\n",
              "      <td>18.7</td>\n",
              "      <td>394.63</td>\n",
              "      <td>2.94</td>\n",
              "      <td>33.4</td>\n",
              "    </tr>\n",
              "    <tr>\n",
              "      <th>4</th>\n",
              "      <td>0.06905</td>\n",
              "      <td>0.0</td>\n",
              "      <td>2.18</td>\n",
              "      <td>0</td>\n",
              "      <td>0.458</td>\n",
              "      <td>7.147</td>\n",
              "      <td>54.2</td>\n",
              "      <td>6.0622</td>\n",
              "      <td>3</td>\n",
              "      <td>222</td>\n",
              "      <td>18.7</td>\n",
              "      <td>396.90</td>\n",
              "      <td>5.33</td>\n",
              "      <td>36.2</td>\n",
              "    </tr>\n",
              "  </tbody>\n",
              "</table>\n",
              "</div>\n",
              "    <div class=\"colab-df-buttons\">\n",
              "\n",
              "  <div class=\"colab-df-container\">\n",
              "    <button class=\"colab-df-convert\" onclick=\"convertToInteractive('df-85dfa751-0446-4053-94a1-37cc72409ebe')\"\n",
              "            title=\"Convert this dataframe to an interactive table.\"\n",
              "            style=\"display:none;\">\n",
              "\n",
              "  <svg xmlns=\"http://www.w3.org/2000/svg\" height=\"24px\" viewBox=\"0 -960 960 960\">\n",
              "    <path d=\"M120-120v-720h720v720H120Zm60-500h600v-160H180v160Zm220 220h160v-160H400v160Zm0 220h160v-160H400v160ZM180-400h160v-160H180v160Zm440 0h160v-160H620v160ZM180-180h160v-160H180v160Zm440 0h160v-160H620v160Z\"/>\n",
              "  </svg>\n",
              "    </button>\n",
              "\n",
              "  <style>\n",
              "    .colab-df-container {\n",
              "      display:flex;\n",
              "      gap: 12px;\n",
              "    }\n",
              "\n",
              "    .colab-df-convert {\n",
              "      background-color: #E8F0FE;\n",
              "      border: none;\n",
              "      border-radius: 50%;\n",
              "      cursor: pointer;\n",
              "      display: none;\n",
              "      fill: #1967D2;\n",
              "      height: 32px;\n",
              "      padding: 0 0 0 0;\n",
              "      width: 32px;\n",
              "    }\n",
              "\n",
              "    .colab-df-convert:hover {\n",
              "      background-color: #E2EBFA;\n",
              "      box-shadow: 0px 1px 2px rgba(60, 64, 67, 0.3), 0px 1px 3px 1px rgba(60, 64, 67, 0.15);\n",
              "      fill: #174EA6;\n",
              "    }\n",
              "\n",
              "    .colab-df-buttons div {\n",
              "      margin-bottom: 4px;\n",
              "    }\n",
              "\n",
              "    [theme=dark] .colab-df-convert {\n",
              "      background-color: #3B4455;\n",
              "      fill: #D2E3FC;\n",
              "    }\n",
              "\n",
              "    [theme=dark] .colab-df-convert:hover {\n",
              "      background-color: #434B5C;\n",
              "      box-shadow: 0px 1px 3px 1px rgba(0, 0, 0, 0.15);\n",
              "      filter: drop-shadow(0px 1px 2px rgba(0, 0, 0, 0.3));\n",
              "      fill: #FFFFFF;\n",
              "    }\n",
              "  </style>\n",
              "\n",
              "    <script>\n",
              "      const buttonEl =\n",
              "        document.querySelector('#df-85dfa751-0446-4053-94a1-37cc72409ebe button.colab-df-convert');\n",
              "      buttonEl.style.display =\n",
              "        google.colab.kernel.accessAllowed ? 'block' : 'none';\n",
              "\n",
              "      async function convertToInteractive(key) {\n",
              "        const element = document.querySelector('#df-85dfa751-0446-4053-94a1-37cc72409ebe');\n",
              "        const dataTable =\n",
              "          await google.colab.kernel.invokeFunction('convertToInteractive',\n",
              "                                                    [key], {});\n",
              "        if (!dataTable) return;\n",
              "\n",
              "        const docLinkHtml = 'Like what you see? Visit the ' +\n",
              "          '<a target=\"_blank\" href=https://colab.research.google.com/notebooks/data_table.ipynb>data table notebook</a>'\n",
              "          + ' to learn more about interactive tables.';\n",
              "        element.innerHTML = '';\n",
              "        dataTable['output_type'] = 'display_data';\n",
              "        await google.colab.output.renderOutput(dataTable, element);\n",
              "        const docLink = document.createElement('div');\n",
              "        docLink.innerHTML = docLinkHtml;\n",
              "        element.appendChild(docLink);\n",
              "      }\n",
              "    </script>\n",
              "  </div>\n",
              "\n",
              "\n",
              "<div id=\"df-7201dd3c-5254-4bea-9c16-cbdac9ef193d\">\n",
              "  <button class=\"colab-df-quickchart\" onclick=\"quickchart('df-7201dd3c-5254-4bea-9c16-cbdac9ef193d')\"\n",
              "            title=\"Suggest charts\"\n",
              "            style=\"display:none;\">\n",
              "\n",
              "<svg xmlns=\"http://www.w3.org/2000/svg\" height=\"24px\"viewBox=\"0 0 24 24\"\n",
              "     width=\"24px\">\n",
              "    <g>\n",
              "        <path d=\"M19 3H5c-1.1 0-2 .9-2 2v14c0 1.1.9 2 2 2h14c1.1 0 2-.9 2-2V5c0-1.1-.9-2-2-2zM9 17H7v-7h2v7zm4 0h-2V7h2v10zm4 0h-2v-4h2v4z\"/>\n",
              "    </g>\n",
              "</svg>\n",
              "  </button>\n",
              "\n",
              "<style>\n",
              "  .colab-df-quickchart {\n",
              "      --bg-color: #E8F0FE;\n",
              "      --fill-color: #1967D2;\n",
              "      --hover-bg-color: #E2EBFA;\n",
              "      --hover-fill-color: #174EA6;\n",
              "      --disabled-fill-color: #AAA;\n",
              "      --disabled-bg-color: #DDD;\n",
              "  }\n",
              "\n",
              "  [theme=dark] .colab-df-quickchart {\n",
              "      --bg-color: #3B4455;\n",
              "      --fill-color: #D2E3FC;\n",
              "      --hover-bg-color: #434B5C;\n",
              "      --hover-fill-color: #FFFFFF;\n",
              "      --disabled-bg-color: #3B4455;\n",
              "      --disabled-fill-color: #666;\n",
              "  }\n",
              "\n",
              "  .colab-df-quickchart {\n",
              "    background-color: var(--bg-color);\n",
              "    border: none;\n",
              "    border-radius: 50%;\n",
              "    cursor: pointer;\n",
              "    display: none;\n",
              "    fill: var(--fill-color);\n",
              "    height: 32px;\n",
              "    padding: 0;\n",
              "    width: 32px;\n",
              "  }\n",
              "\n",
              "  .colab-df-quickchart:hover {\n",
              "    background-color: var(--hover-bg-color);\n",
              "    box-shadow: 0 1px 2px rgba(60, 64, 67, 0.3), 0 1px 3px 1px rgba(60, 64, 67, 0.15);\n",
              "    fill: var(--button-hover-fill-color);\n",
              "  }\n",
              "\n",
              "  .colab-df-quickchart-complete:disabled,\n",
              "  .colab-df-quickchart-complete:disabled:hover {\n",
              "    background-color: var(--disabled-bg-color);\n",
              "    fill: var(--disabled-fill-color);\n",
              "    box-shadow: none;\n",
              "  }\n",
              "\n",
              "  .colab-df-spinner {\n",
              "    border: 2px solid var(--fill-color);\n",
              "    border-color: transparent;\n",
              "    border-bottom-color: var(--fill-color);\n",
              "    animation:\n",
              "      spin 1s steps(1) infinite;\n",
              "  }\n",
              "\n",
              "  @keyframes spin {\n",
              "    0% {\n",
              "      border-color: transparent;\n",
              "      border-bottom-color: var(--fill-color);\n",
              "      border-left-color: var(--fill-color);\n",
              "    }\n",
              "    20% {\n",
              "      border-color: transparent;\n",
              "      border-left-color: var(--fill-color);\n",
              "      border-top-color: var(--fill-color);\n",
              "    }\n",
              "    30% {\n",
              "      border-color: transparent;\n",
              "      border-left-color: var(--fill-color);\n",
              "      border-top-color: var(--fill-color);\n",
              "      border-right-color: var(--fill-color);\n",
              "    }\n",
              "    40% {\n",
              "      border-color: transparent;\n",
              "      border-right-color: var(--fill-color);\n",
              "      border-top-color: var(--fill-color);\n",
              "    }\n",
              "    60% {\n",
              "      border-color: transparent;\n",
              "      border-right-color: var(--fill-color);\n",
              "    }\n",
              "    80% {\n",
              "      border-color: transparent;\n",
              "      border-right-color: var(--fill-color);\n",
              "      border-bottom-color: var(--fill-color);\n",
              "    }\n",
              "    90% {\n",
              "      border-color: transparent;\n",
              "      border-bottom-color: var(--fill-color);\n",
              "    }\n",
              "  }\n",
              "</style>\n",
              "\n",
              "  <script>\n",
              "    async function quickchart(key) {\n",
              "      const quickchartButtonEl =\n",
              "        document.querySelector('#' + key + ' button');\n",
              "      quickchartButtonEl.disabled = true;  // To prevent multiple clicks.\n",
              "      quickchartButtonEl.classList.add('colab-df-spinner');\n",
              "      try {\n",
              "        const charts = await google.colab.kernel.invokeFunction(\n",
              "            'suggestCharts', [key], {});\n",
              "      } catch (error) {\n",
              "        console.error('Error during call to suggestCharts:', error);\n",
              "      }\n",
              "      quickchartButtonEl.classList.remove('colab-df-spinner');\n",
              "      quickchartButtonEl.classList.add('colab-df-quickchart-complete');\n",
              "    }\n",
              "    (() => {\n",
              "      let quickchartButtonEl =\n",
              "        document.querySelector('#df-7201dd3c-5254-4bea-9c16-cbdac9ef193d button');\n",
              "      quickchartButtonEl.style.display =\n",
              "        google.colab.kernel.accessAllowed ? 'block' : 'none';\n",
              "    })();\n",
              "  </script>\n",
              "</div>\n",
              "\n",
              "    </div>\n",
              "  </div>\n"
            ],
            "application/vnd.google.colaboratory.intrinsic+json": {
              "type": "dataframe",
              "variable_name": "df",
              "summary": "{\n  \"name\": \"df\",\n  \"rows\": 506,\n  \"fields\": [\n    {\n      \"column\": \"crim\",\n      \"properties\": {\n        \"dtype\": \"number\",\n        \"std\": 8.60154510533249,\n        \"min\": 0.00632,\n        \"max\": 88.9762,\n        \"num_unique_values\": 504,\n        \"samples\": [\n          0.09178,\n          0.05644,\n          0.10574\n        ],\n        \"semantic_type\": \"\",\n        \"description\": \"\"\n      }\n    },\n    {\n      \"column\": \"zn\",\n      \"properties\": {\n        \"dtype\": \"number\",\n        \"std\": 23.32245299451514,\n        \"min\": 0.0,\n        \"max\": 100.0,\n        \"num_unique_values\": 26,\n        \"samples\": [\n          25.0,\n          30.0,\n          18.0\n        ],\n        \"semantic_type\": \"\",\n        \"description\": \"\"\n      }\n    },\n    {\n      \"column\": \"indus\",\n      \"properties\": {\n        \"dtype\": \"number\",\n        \"std\": 6.860352940897585,\n        \"min\": 0.46,\n        \"max\": 27.74,\n        \"num_unique_values\": 76,\n        \"samples\": [\n          8.14,\n          1.47,\n          1.22\n        ],\n        \"semantic_type\": \"\",\n        \"description\": \"\"\n      }\n    },\n    {\n      \"column\": \"chas\",\n      \"properties\": {\n        \"dtype\": \"number\",\n        \"std\": 0,\n        \"min\": 0,\n        \"max\": 1,\n        \"num_unique_values\": 2,\n        \"samples\": [\n          1,\n          0\n        ],\n        \"semantic_type\": \"\",\n        \"description\": \"\"\n      }\n    },\n    {\n      \"column\": \"nox\",\n      \"properties\": {\n        \"dtype\": \"number\",\n        \"std\": 0.11587767566755595,\n        \"min\": 0.385,\n        \"max\": 0.871,\n        \"num_unique_values\": 81,\n        \"samples\": [\n          0.401,\n          0.538\n        ],\n        \"semantic_type\": \"\",\n        \"description\": \"\"\n      }\n    },\n    {\n      \"column\": \"rm\",\n      \"properties\": {\n        \"dtype\": \"number\",\n        \"std\": 0.7026171434153233,\n        \"min\": 3.561,\n        \"max\": 8.78,\n        \"num_unique_values\": 446,\n        \"samples\": [\n          6.849,\n          4.88\n        ],\n        \"semantic_type\": \"\",\n        \"description\": \"\"\n      }\n    },\n    {\n      \"column\": \"age\",\n      \"properties\": {\n        \"dtype\": \"number\",\n        \"std\": 28.148861406903617,\n        \"min\": 2.9,\n        \"max\": 100.0,\n        \"num_unique_values\": 356,\n        \"samples\": [\n          51.8,\n          33.8\n        ],\n        \"semantic_type\": \"\",\n        \"description\": \"\"\n      }\n    },\n    {\n      \"column\": \"dis\",\n      \"properties\": {\n        \"dtype\": \"number\",\n        \"std\": 2.105710126627611,\n        \"min\": 1.1296,\n        \"max\": 12.1265,\n        \"num_unique_values\": 412,\n        \"samples\": [\n          2.2955,\n          4.2515\n        ],\n        \"semantic_type\": \"\",\n        \"description\": \"\"\n      }\n    },\n    {\n      \"column\": \"rad\",\n      \"properties\": {\n        \"dtype\": \"number\",\n        \"std\": 8,\n        \"min\": 1,\n        \"max\": 24,\n        \"num_unique_values\": 9,\n        \"samples\": [\n          7,\n          2\n        ],\n        \"semantic_type\": \"\",\n        \"description\": \"\"\n      }\n    },\n    {\n      \"column\": \"tax\",\n      \"properties\": {\n        \"dtype\": \"number\",\n        \"std\": 168,\n        \"min\": 187,\n        \"max\": 711,\n        \"num_unique_values\": 66,\n        \"samples\": [\n          370,\n          666\n        ],\n        \"semantic_type\": \"\",\n        \"description\": \"\"\n      }\n    },\n    {\n      \"column\": \"ptratio\",\n      \"properties\": {\n        \"dtype\": \"number\",\n        \"std\": 2.1649455237144406,\n        \"min\": 12.6,\n        \"max\": 22.0,\n        \"num_unique_values\": 46,\n        \"samples\": [\n          19.6,\n          15.6\n        ],\n        \"semantic_type\": \"\",\n        \"description\": \"\"\n      }\n    },\n    {\n      \"column\": \"b\",\n      \"properties\": {\n        \"dtype\": \"number\",\n        \"std\": 91.29486438415783,\n        \"min\": 0.32,\n        \"max\": 396.9,\n        \"num_unique_values\": 357,\n        \"samples\": [\n          396.24,\n          395.11\n        ],\n        \"semantic_type\": \"\",\n        \"description\": \"\"\n      }\n    },\n    {\n      \"column\": \"lstat\",\n      \"properties\": {\n        \"dtype\": \"number\",\n        \"std\": 7.141061511348571,\n        \"min\": 1.73,\n        \"max\": 37.97,\n        \"num_unique_values\": 455,\n        \"samples\": [\n          6.15,\n          4.32\n        ],\n        \"semantic_type\": \"\",\n        \"description\": \"\"\n      }\n    },\n    {\n      \"column\": \"medv\",\n      \"properties\": {\n        \"dtype\": \"number\",\n        \"std\": 9.197104087379818,\n        \"min\": 5.0,\n        \"max\": 50.0,\n        \"num_unique_values\": 229,\n        \"samples\": [\n          14.1,\n          22.5\n        ],\n        \"semantic_type\": \"\",\n        \"description\": \"\"\n      }\n    }\n  ]\n}"
            }
          },
          "metadata": {},
          "execution_count": 41
        }
      ]
    },
    {
      "cell_type": "code",
      "source": [
        "df.isnull().sum()"
      ],
      "metadata": {
        "colab": {
          "base_uri": "https://localhost:8080/"
        },
        "id": "B8KvIldEfP7K",
        "outputId": "88a5f83d-76e4-49fb-e2c8-f6b3f7749758"
      },
      "execution_count": 42,
      "outputs": [
        {
          "output_type": "execute_result",
          "data": {
            "text/plain": [
              "crim       0\n",
              "zn         0\n",
              "indus      0\n",
              "chas       0\n",
              "nox        0\n",
              "rm         0\n",
              "age        0\n",
              "dis        0\n",
              "rad        0\n",
              "tax        0\n",
              "ptratio    0\n",
              "b          0\n",
              "lstat      0\n",
              "medv       0\n",
              "dtype: int64"
            ]
          },
          "metadata": {},
          "execution_count": 42
        }
      ]
    },
    {
      "cell_type": "code",
      "source": [
        "X = pd.DataFrame(np.c_[df['lstat'], df['rm']], columns = ['lstat','rm'])\n",
        "Y = df['medv']"
      ],
      "metadata": {
        "id": "Rc_nPoSxf1hN"
      },
      "execution_count": 51,
      "outputs": []
    },
    {
      "cell_type": "code",
      "source": [
        "from sklearn.preprocessing import StandardScaler\n",
        "scaler=StandardScaler()\n",
        "x_scaled=scaler.fit_transform(X)"
      ],
      "metadata": {
        "id": "-irSuk_AiSOI"
      },
      "execution_count": 52,
      "outputs": []
    },
    {
      "cell_type": "code",
      "source": [
        "from sklearn.model_selection import train_test_split\n",
        "\n",
        "X_train, X_test, Y_train, Y_test = train_test_split(x_scaled, Y, test_size = 0.20, random_state=12)\n",
        "print(X_train.shape)\n",
        "print(X_test.shape)\n",
        "print(Y_train.shape)\n",
        "print(Y_test.shape)"
      ],
      "metadata": {
        "colab": {
          "base_uri": "https://localhost:8080/"
        },
        "id": "nUvOIgZIgDBf",
        "outputId": "e7fdcadc-d6da-4c96-fbcd-fe9ba14b72b4"
      },
      "execution_count": 56,
      "outputs": [
        {
          "output_type": "stream",
          "name": "stdout",
          "text": [
            "(404, 2)\n",
            "(102, 2)\n",
            "(404,)\n",
            "(102,)\n"
          ]
        }
      ]
    },
    {
      "cell_type": "code",
      "source": [
        "from sklearn.linear_model import LinearRegression\n",
        "from sklearn.metrics import mean_squared_error\n",
        "\n",
        "lin_model = LinearRegression()\n",
        "lin_model.fit(X_train, Y_train)"
      ],
      "metadata": {
        "colab": {
          "base_uri": "https://localhost:8080/",
          "height": 74
        },
        "id": "eY2ivRiugP6x",
        "outputId": "580b2c4d-4972-4889-b77b-0af781ce8164"
      },
      "execution_count": 57,
      "outputs": [
        {
          "output_type": "execute_result",
          "data": {
            "text/plain": [
              "LinearRegression()"
            ],
            "text/html": [
              "<style>#sk-container-id-10 {color: black;background-color: white;}#sk-container-id-10 pre{padding: 0;}#sk-container-id-10 div.sk-toggleable {background-color: white;}#sk-container-id-10 label.sk-toggleable__label {cursor: pointer;display: block;width: 100%;margin-bottom: 0;padding: 0.3em;box-sizing: border-box;text-align: center;}#sk-container-id-10 label.sk-toggleable__label-arrow:before {content: \"▸\";float: left;margin-right: 0.25em;color: #696969;}#sk-container-id-10 label.sk-toggleable__label-arrow:hover:before {color: black;}#sk-container-id-10 div.sk-estimator:hover label.sk-toggleable__label-arrow:before {color: black;}#sk-container-id-10 div.sk-toggleable__content {max-height: 0;max-width: 0;overflow: hidden;text-align: left;background-color: #f0f8ff;}#sk-container-id-10 div.sk-toggleable__content pre {margin: 0.2em;color: black;border-radius: 0.25em;background-color: #f0f8ff;}#sk-container-id-10 input.sk-toggleable__control:checked~div.sk-toggleable__content {max-height: 200px;max-width: 100%;overflow: auto;}#sk-container-id-10 input.sk-toggleable__control:checked~label.sk-toggleable__label-arrow:before {content: \"▾\";}#sk-container-id-10 div.sk-estimator input.sk-toggleable__control:checked~label.sk-toggleable__label {background-color: #d4ebff;}#sk-container-id-10 div.sk-label input.sk-toggleable__control:checked~label.sk-toggleable__label {background-color: #d4ebff;}#sk-container-id-10 input.sk-hidden--visually {border: 0;clip: rect(1px 1px 1px 1px);clip: rect(1px, 1px, 1px, 1px);height: 1px;margin: -1px;overflow: hidden;padding: 0;position: absolute;width: 1px;}#sk-container-id-10 div.sk-estimator {font-family: monospace;background-color: #f0f8ff;border: 1px dotted black;border-radius: 0.25em;box-sizing: border-box;margin-bottom: 0.5em;}#sk-container-id-10 div.sk-estimator:hover {background-color: #d4ebff;}#sk-container-id-10 div.sk-parallel-item::after {content: \"\";width: 100%;border-bottom: 1px solid gray;flex-grow: 1;}#sk-container-id-10 div.sk-label:hover label.sk-toggleable__label {background-color: #d4ebff;}#sk-container-id-10 div.sk-serial::before {content: \"\";position: absolute;border-left: 1px solid gray;box-sizing: border-box;top: 0;bottom: 0;left: 50%;z-index: 0;}#sk-container-id-10 div.sk-serial {display: flex;flex-direction: column;align-items: center;background-color: white;padding-right: 0.2em;padding-left: 0.2em;position: relative;}#sk-container-id-10 div.sk-item {position: relative;z-index: 1;}#sk-container-id-10 div.sk-parallel {display: flex;align-items: stretch;justify-content: center;background-color: white;position: relative;}#sk-container-id-10 div.sk-item::before, #sk-container-id-10 div.sk-parallel-item::before {content: \"\";position: absolute;border-left: 1px solid gray;box-sizing: border-box;top: 0;bottom: 0;left: 50%;z-index: -1;}#sk-container-id-10 div.sk-parallel-item {display: flex;flex-direction: column;z-index: 1;position: relative;background-color: white;}#sk-container-id-10 div.sk-parallel-item:first-child::after {align-self: flex-end;width: 50%;}#sk-container-id-10 div.sk-parallel-item:last-child::after {align-self: flex-start;width: 50%;}#sk-container-id-10 div.sk-parallel-item:only-child::after {width: 0;}#sk-container-id-10 div.sk-dashed-wrapped {border: 1px dashed gray;margin: 0 0.4em 0.5em 0.4em;box-sizing: border-box;padding-bottom: 0.4em;background-color: white;}#sk-container-id-10 div.sk-label label {font-family: monospace;font-weight: bold;display: inline-block;line-height: 1.2em;}#sk-container-id-10 div.sk-label-container {text-align: center;}#sk-container-id-10 div.sk-container {/* jupyter's `normalize.less` sets `[hidden] { display: none; }` but bootstrap.min.css set `[hidden] { display: none !important; }` so we also need the `!important` here to be able to override the default hidden behavior on the sphinx rendered scikit-learn.org. See: https://github.com/scikit-learn/scikit-learn/issues/21755 */display: inline-block !important;position: relative;}#sk-container-id-10 div.sk-text-repr-fallback {display: none;}</style><div id=\"sk-container-id-10\" class=\"sk-top-container\"><div class=\"sk-text-repr-fallback\"><pre>LinearRegression()</pre><b>In a Jupyter environment, please rerun this cell to show the HTML representation or trust the notebook. <br />On GitHub, the HTML representation is unable to render, please try loading this page with nbviewer.org.</b></div><div class=\"sk-container\" hidden><div class=\"sk-item\"><div class=\"sk-estimator sk-toggleable\"><input class=\"sk-toggleable__control sk-hidden--visually\" id=\"sk-estimator-id-10\" type=\"checkbox\" checked><label for=\"sk-estimator-id-10\" class=\"sk-toggleable__label sk-toggleable__label-arrow\">LinearRegression</label><div class=\"sk-toggleable__content\"><pre>LinearRegression()</pre></div></div></div></div></div>"
            ]
          },
          "metadata": {},
          "execution_count": 57
        }
      ]
    },
    {
      "cell_type": "code",
      "source": [
        "from sklearn.metrics import mean_squared_error, r2_score\n",
        "\n",
        "# Your code for model training and prediction goes here\n",
        "\n",
        "# model evaluation for training set\n",
        "y_train_predict = lin_model.predict(X_train)\n",
        "rmse_train = np.sqrt(mean_squared_error(Y_train, y_train_predict))\n",
        "r2_train = r2_score(Y_train, y_train_predict)\n",
        "\n",
        "print(\"The model performance for training set\")\n",
        "print(\"--------------------------------------\")\n",
        "print('RMSE is {}'.format(rmse_train))\n",
        "print('R2 score is {}'.format(r2_train))\n",
        "print(\"\\n\")\n",
        "\n",
        "# model evaluation for testing set\n",
        "y_test_predict = lin_model.predict(X_test)\n",
        "rmse_test = np.sqrt(mean_squared_error(Y_test, y_test_predict))\n",
        "r2_test = r2_score(Y_test, y_test_predict)\n",
        "\n",
        "print(\"The model performance for testing set\")\n",
        "print(\"--------------------------------------\")\n",
        "print('RMSE is {}'.format(rmse_test))\n",
        "print('R2 score is {}'.format(r2_test))\n"
      ],
      "metadata": {
        "colab": {
          "base_uri": "https://localhost:8080/"
        },
        "id": "gxGZXkc-gWml",
        "outputId": "db8f84c2-ba5c-4f3a-a0f0-0c1fa171de38"
      },
      "execution_count": 58,
      "outputs": [
        {
          "output_type": "stream",
          "name": "stdout",
          "text": [
            "The model performance for training set\n",
            "--------------------------------------\n",
            "RMSE is 5.5501562067052665\n",
            "R2 score is 0.6376199854440077\n",
            "\n",
            "\n",
            "The model performance for testing set\n",
            "--------------------------------------\n",
            "RMSE is 5.431992943356162\n",
            "R2 score is 0.6388882580693107\n"
          ]
        }
      ]
    },
    {
      "cell_type": "code",
      "source": [
        "from sklearn.neural_network import MLPRegressor"
      ],
      "metadata": {
        "id": "nCyVwhK5goPN"
      },
      "execution_count": 60,
      "outputs": []
    },
    {
      "cell_type": "code",
      "source": [
        "mlp=MLPRegressor(hidden_layer_sizes=(64,16))"
      ],
      "metadata": {
        "id": "qLHjjDKcmDsM"
      },
      "execution_count": 77,
      "outputs": []
    },
    {
      "cell_type": "code",
      "source": [
        "mlp.fit(X_train,Y_train)"
      ],
      "metadata": {
        "colab": {
          "base_uri": "https://localhost:8080/",
          "height": 74
        },
        "id": "GMgynKLlmYIT",
        "outputId": "db52fe0f-f99e-4d88-e301-e645bb6b265d"
      },
      "execution_count": 78,
      "outputs": [
        {
          "output_type": "execute_result",
          "data": {
            "text/plain": [
              "MLPRegressor(hidden_layer_sizes=(64, 16))"
            ],
            "text/html": [
              "<style>#sk-container-id-15 {color: black;background-color: white;}#sk-container-id-15 pre{padding: 0;}#sk-container-id-15 div.sk-toggleable {background-color: white;}#sk-container-id-15 label.sk-toggleable__label {cursor: pointer;display: block;width: 100%;margin-bottom: 0;padding: 0.3em;box-sizing: border-box;text-align: center;}#sk-container-id-15 label.sk-toggleable__label-arrow:before {content: \"▸\";float: left;margin-right: 0.25em;color: #696969;}#sk-container-id-15 label.sk-toggleable__label-arrow:hover:before {color: black;}#sk-container-id-15 div.sk-estimator:hover label.sk-toggleable__label-arrow:before {color: black;}#sk-container-id-15 div.sk-toggleable__content {max-height: 0;max-width: 0;overflow: hidden;text-align: left;background-color: #f0f8ff;}#sk-container-id-15 div.sk-toggleable__content pre {margin: 0.2em;color: black;border-radius: 0.25em;background-color: #f0f8ff;}#sk-container-id-15 input.sk-toggleable__control:checked~div.sk-toggleable__content {max-height: 200px;max-width: 100%;overflow: auto;}#sk-container-id-15 input.sk-toggleable__control:checked~label.sk-toggleable__label-arrow:before {content: \"▾\";}#sk-container-id-15 div.sk-estimator input.sk-toggleable__control:checked~label.sk-toggleable__label {background-color: #d4ebff;}#sk-container-id-15 div.sk-label input.sk-toggleable__control:checked~label.sk-toggleable__label {background-color: #d4ebff;}#sk-container-id-15 input.sk-hidden--visually {border: 0;clip: rect(1px 1px 1px 1px);clip: rect(1px, 1px, 1px, 1px);height: 1px;margin: -1px;overflow: hidden;padding: 0;position: absolute;width: 1px;}#sk-container-id-15 div.sk-estimator {font-family: monospace;background-color: #f0f8ff;border: 1px dotted black;border-radius: 0.25em;box-sizing: border-box;margin-bottom: 0.5em;}#sk-container-id-15 div.sk-estimator:hover {background-color: #d4ebff;}#sk-container-id-15 div.sk-parallel-item::after {content: \"\";width: 100%;border-bottom: 1px solid gray;flex-grow: 1;}#sk-container-id-15 div.sk-label:hover label.sk-toggleable__label {background-color: #d4ebff;}#sk-container-id-15 div.sk-serial::before {content: \"\";position: absolute;border-left: 1px solid gray;box-sizing: border-box;top: 0;bottom: 0;left: 50%;z-index: 0;}#sk-container-id-15 div.sk-serial {display: flex;flex-direction: column;align-items: center;background-color: white;padding-right: 0.2em;padding-left: 0.2em;position: relative;}#sk-container-id-15 div.sk-item {position: relative;z-index: 1;}#sk-container-id-15 div.sk-parallel {display: flex;align-items: stretch;justify-content: center;background-color: white;position: relative;}#sk-container-id-15 div.sk-item::before, #sk-container-id-15 div.sk-parallel-item::before {content: \"\";position: absolute;border-left: 1px solid gray;box-sizing: border-box;top: 0;bottom: 0;left: 50%;z-index: -1;}#sk-container-id-15 div.sk-parallel-item {display: flex;flex-direction: column;z-index: 1;position: relative;background-color: white;}#sk-container-id-15 div.sk-parallel-item:first-child::after {align-self: flex-end;width: 50%;}#sk-container-id-15 div.sk-parallel-item:last-child::after {align-self: flex-start;width: 50%;}#sk-container-id-15 div.sk-parallel-item:only-child::after {width: 0;}#sk-container-id-15 div.sk-dashed-wrapped {border: 1px dashed gray;margin: 0 0.4em 0.5em 0.4em;box-sizing: border-box;padding-bottom: 0.4em;background-color: white;}#sk-container-id-15 div.sk-label label {font-family: monospace;font-weight: bold;display: inline-block;line-height: 1.2em;}#sk-container-id-15 div.sk-label-container {text-align: center;}#sk-container-id-15 div.sk-container {/* jupyter's `normalize.less` sets `[hidden] { display: none; }` but bootstrap.min.css set `[hidden] { display: none !important; }` so we also need the `!important` here to be able to override the default hidden behavior on the sphinx rendered scikit-learn.org. See: https://github.com/scikit-learn/scikit-learn/issues/21755 */display: inline-block !important;position: relative;}#sk-container-id-15 div.sk-text-repr-fallback {display: none;}</style><div id=\"sk-container-id-15\" class=\"sk-top-container\"><div class=\"sk-text-repr-fallback\"><pre>MLPRegressor(hidden_layer_sizes=(64, 16))</pre><b>In a Jupyter environment, please rerun this cell to show the HTML representation or trust the notebook. <br />On GitHub, the HTML representation is unable to render, please try loading this page with nbviewer.org.</b></div><div class=\"sk-container\" hidden><div class=\"sk-item\"><div class=\"sk-estimator sk-toggleable\"><input class=\"sk-toggleable__control sk-hidden--visually\" id=\"sk-estimator-id-15\" type=\"checkbox\" checked><label for=\"sk-estimator-id-15\" class=\"sk-toggleable__label sk-toggleable__label-arrow\">MLPRegressor</label><div class=\"sk-toggleable__content\"><pre>MLPRegressor(hidden_layer_sizes=(64, 16))</pre></div></div></div></div></div>"
            ]
          },
          "metadata": {},
          "execution_count": 78
        }
      ]
    },
    {
      "cell_type": "code",
      "source": [
        "y_pred1=mlp.predict(X_test)"
      ],
      "metadata": {
        "id": "W2_eOvM1meKb"
      },
      "execution_count": 79,
      "outputs": []
    },
    {
      "cell_type": "code",
      "source": [
        "r2_score(Y_test,y_pred1)"
      ],
      "metadata": {
        "colab": {
          "base_uri": "https://localhost:8080/"
        },
        "id": "Mnr2g6TumlwZ",
        "outputId": "4859c794-d4f5-47ab-ccfc-3ab156d099da"
      },
      "execution_count": 80,
      "outputs": [
        {
          "output_type": "execute_result",
          "data": {
            "text/plain": [
              "0.7924576325461047"
            ]
          },
          "metadata": {},
          "execution_count": 80
        }
      ]
    },
    {
      "cell_type": "code",
      "source": [],
      "metadata": {
        "id": "W4__vSbznt6r"
      },
      "execution_count": null,
      "outputs": []
    },
    {
      "cell_type": "code",
      "source": [
        "### Sequential model###"
      ],
      "metadata": {
        "id": "J4AmZvOcmrga"
      },
      "execution_count": 81,
      "outputs": []
    },
    {
      "cell_type": "code",
      "source": [
        "from tensorflow.keras.models import Sequential"
      ],
      "metadata": {
        "id": "4v67LXvKnikQ"
      },
      "execution_count": 82,
      "outputs": []
    },
    {
      "cell_type": "code",
      "source": [
        "model=Sequential()"
      ],
      "metadata": {
        "id": "89WUO4q5nx2N"
      },
      "execution_count": 83,
      "outputs": []
    },
    {
      "cell_type": "code",
      "source": [
        "# define the deep neural network model\n",
        "from tensorflow.keras.layers import Dense # dense means fully connected layer\n",
        "model.add(Dense(64,activation='relu',input_shape=(X_train.shape[1],)))"
      ],
      "metadata": {
        "id": "K5y3877Dn1Tb"
      },
      "execution_count": 86,
      "outputs": []
    },
    {
      "cell_type": "code",
      "source": [
        "model.add(Dense(64,activation='relu'))"
      ],
      "metadata": {
        "id": "GI7y84bKoS6S"
      },
      "execution_count": 87,
      "outputs": []
    },
    {
      "cell_type": "code",
      "source": [
        "model.add(Dense(1))"
      ],
      "metadata": {
        "id": "pjM8AQLgpSwL"
      },
      "execution_count": 88,
      "outputs": []
    },
    {
      "cell_type": "code",
      "source": [
        "#compile model\n",
        "# optimizer tries to adjust the weights\n",
        "from sklearn.metrics import mean_squared_error\n",
        "from tensorflow.keras.optimizers import Adam\n",
        "model.compile(optimizer=Adam(),loss='mean_squared_error')"
      ],
      "metadata": {
        "id": "ryMoz4k-pzrJ"
      },
      "execution_count": 91,
      "outputs": []
    },
    {
      "cell_type": "code",
      "source": [
        "#train the model\n",
        "#verbose will print all the info of the model when it is training\n",
        "tm=model.fit(X_train,Y_train,epochs=100,batch_size=32,validation_split=0.20,verbose=1)"
      ],
      "metadata": {
        "colab": {
          "base_uri": "https://localhost:8080/"
        },
        "id": "JHDK1BR4p4Sx",
        "outputId": "348c5031-75c3-4eb2-8e06-9cd7dbed3f27"
      },
      "execution_count": 92,
      "outputs": [
        {
          "output_type": "stream",
          "name": "stdout",
          "text": [
            "Epoch 1/100\n",
            "11/11 [==============================] - 2s 35ms/step - loss: 589.4464 - val_loss: 543.7251\n",
            "Epoch 2/100\n",
            "11/11 [==============================] - 0s 13ms/step - loss: 567.1978 - val_loss: 522.3540\n",
            "Epoch 3/100\n",
            "11/11 [==============================] - 0s 10ms/step - loss: 541.7750 - val_loss: 496.5316\n",
            "Epoch 4/100\n",
            "11/11 [==============================] - 0s 8ms/step - loss: 510.9503 - val_loss: 463.2098\n",
            "Epoch 5/100\n",
            "11/11 [==============================] - 0s 8ms/step - loss: 469.2240 - val_loss: 420.7393\n",
            "Epoch 6/100\n",
            "11/11 [==============================] - 0s 5ms/step - loss: 417.7153 - val_loss: 367.1132\n",
            "Epoch 7/100\n",
            "11/11 [==============================] - 0s 7ms/step - loss: 353.7452 - val_loss: 305.3683\n",
            "Epoch 8/100\n",
            "11/11 [==============================] - 0s 5ms/step - loss: 281.5373 - val_loss: 238.5807\n",
            "Epoch 9/100\n",
            "11/11 [==============================] - 0s 7ms/step - loss: 210.1311 - val_loss: 176.9558\n",
            "Epoch 10/100\n",
            "11/11 [==============================] - 0s 5ms/step - loss: 146.3537 - val_loss: 123.2198\n",
            "Epoch 11/100\n",
            "11/11 [==============================] - 0s 5ms/step - loss: 94.1605 - val_loss: 85.3173\n",
            "Epoch 12/100\n",
            "11/11 [==============================] - 0s 7ms/step - loss: 62.0638 - val_loss: 64.3899\n",
            "Epoch 13/100\n",
            "11/11 [==============================] - 0s 5ms/step - loss: 49.5232 - val_loss: 54.1167\n",
            "Epoch 14/100\n",
            "11/11 [==============================] - 0s 6ms/step - loss: 43.9593 - val_loss: 48.4843\n",
            "Epoch 15/100\n",
            "11/11 [==============================] - 0s 5ms/step - loss: 41.1079 - val_loss: 44.5764\n",
            "Epoch 16/100\n",
            "11/11 [==============================] - 0s 7ms/step - loss: 38.8711 - val_loss: 41.6747\n",
            "Epoch 17/100\n",
            "11/11 [==============================] - 0s 7ms/step - loss: 37.1791 - val_loss: 39.7498\n",
            "Epoch 18/100\n",
            "11/11 [==============================] - 0s 5ms/step - loss: 35.5611 - val_loss: 38.1785\n",
            "Epoch 19/100\n",
            "11/11 [==============================] - 0s 7ms/step - loss: 34.4165 - val_loss: 36.9250\n",
            "Epoch 20/100\n",
            "11/11 [==============================] - 0s 6ms/step - loss: 33.4523 - val_loss: 35.6283\n",
            "Epoch 21/100\n",
            "11/11 [==============================] - 0s 5ms/step - loss: 32.5593 - val_loss: 34.4903\n",
            "Epoch 22/100\n",
            "11/11 [==============================] - 0s 7ms/step - loss: 31.7490 - val_loss: 33.4304\n",
            "Epoch 23/100\n",
            "11/11 [==============================] - 0s 7ms/step - loss: 31.0709 - val_loss: 32.7053\n",
            "Epoch 24/100\n",
            "11/11 [==============================] - 0s 5ms/step - loss: 30.3946 - val_loss: 31.8115\n",
            "Epoch 25/100\n",
            "11/11 [==============================] - 0s 6ms/step - loss: 29.8108 - val_loss: 31.0981\n",
            "Epoch 26/100\n",
            "11/11 [==============================] - 0s 7ms/step - loss: 29.2015 - val_loss: 30.2778\n",
            "Epoch 27/100\n",
            "11/11 [==============================] - 0s 7ms/step - loss: 28.7507 - val_loss: 29.5658\n",
            "Epoch 28/100\n",
            "11/11 [==============================] - 0s 6ms/step - loss: 28.2830 - val_loss: 28.9484\n",
            "Epoch 29/100\n",
            "11/11 [==============================] - 0s 5ms/step - loss: 27.8280 - val_loss: 28.4684\n",
            "Epoch 30/100\n",
            "11/11 [==============================] - 0s 7ms/step - loss: 27.4105 - val_loss: 28.1526\n",
            "Epoch 31/100\n",
            "11/11 [==============================] - 0s 5ms/step - loss: 27.1449 - val_loss: 28.0981\n",
            "Epoch 32/100\n",
            "11/11 [==============================] - 0s 5ms/step - loss: 26.8236 - val_loss: 27.6086\n",
            "Epoch 33/100\n",
            "11/11 [==============================] - 0s 5ms/step - loss: 26.3461 - val_loss: 27.1229\n",
            "Epoch 34/100\n",
            "11/11 [==============================] - 0s 7ms/step - loss: 26.0826 - val_loss: 26.6619\n",
            "Epoch 35/100\n",
            "11/11 [==============================] - 0s 5ms/step - loss: 25.8321 - val_loss: 26.3651\n",
            "Epoch 36/100\n",
            "11/11 [==============================] - 0s 7ms/step - loss: 25.5701 - val_loss: 25.8725\n",
            "Epoch 37/100\n",
            "11/11 [==============================] - 0s 5ms/step - loss: 25.3022 - val_loss: 25.4434\n",
            "Epoch 38/100\n",
            "11/11 [==============================] - 0s 7ms/step - loss: 25.0465 - val_loss: 25.1733\n",
            "Epoch 39/100\n",
            "11/11 [==============================] - 0s 7ms/step - loss: 24.8546 - val_loss: 24.7982\n",
            "Epoch 40/100\n",
            "11/11 [==============================] - 0s 8ms/step - loss: 24.5862 - val_loss: 24.8310\n",
            "Epoch 41/100\n",
            "11/11 [==============================] - 0s 5ms/step - loss: 24.4595 - val_loss: 24.5264\n",
            "Epoch 42/100\n",
            "11/11 [==============================] - 0s 7ms/step - loss: 24.4487 - val_loss: 24.2889\n",
            "Epoch 43/100\n",
            "11/11 [==============================] - 0s 7ms/step - loss: 24.2020 - val_loss: 23.9063\n",
            "Epoch 44/100\n",
            "11/11 [==============================] - 0s 7ms/step - loss: 24.1122 - val_loss: 24.2976\n",
            "Epoch 45/100\n",
            "11/11 [==============================] - 0s 6ms/step - loss: 23.9418 - val_loss: 24.0274\n",
            "Epoch 46/100\n",
            "11/11 [==============================] - 0s 6ms/step - loss: 23.5204 - val_loss: 23.7727\n",
            "Epoch 47/100\n",
            "11/11 [==============================] - 0s 8ms/step - loss: 23.5845 - val_loss: 24.1250\n",
            "Epoch 48/100\n",
            "11/11 [==============================] - 0s 6ms/step - loss: 23.2958 - val_loss: 23.9265\n",
            "Epoch 49/100\n",
            "11/11 [==============================] - 0s 7ms/step - loss: 23.1747 - val_loss: 23.6151\n",
            "Epoch 50/100\n",
            "11/11 [==============================] - 0s 5ms/step - loss: 23.1526 - val_loss: 23.3165\n",
            "Epoch 51/100\n",
            "11/11 [==============================] - 0s 5ms/step - loss: 22.9326 - val_loss: 23.2404\n",
            "Epoch 52/100\n",
            "11/11 [==============================] - 0s 7ms/step - loss: 22.7930 - val_loss: 23.0317\n",
            "Epoch 53/100\n",
            "11/11 [==============================] - 0s 7ms/step - loss: 22.7044 - val_loss: 22.9220\n",
            "Epoch 54/100\n",
            "11/11 [==============================] - 0s 5ms/step - loss: 22.7750 - val_loss: 23.2156\n",
            "Epoch 55/100\n",
            "11/11 [==============================] - 0s 7ms/step - loss: 22.4625 - val_loss: 23.0006\n",
            "Epoch 56/100\n",
            "11/11 [==============================] - 0s 5ms/step - loss: 22.6457 - val_loss: 22.4526\n",
            "Epoch 57/100\n",
            "11/11 [==============================] - 0s 5ms/step - loss: 22.2791 - val_loss: 22.5623\n",
            "Epoch 58/100\n",
            "11/11 [==============================] - 0s 7ms/step - loss: 22.1302 - val_loss: 22.4833\n",
            "Epoch 59/100\n",
            "11/11 [==============================] - 0s 7ms/step - loss: 22.2116 - val_loss: 22.5260\n",
            "Epoch 60/100\n",
            "11/11 [==============================] - 0s 6ms/step - loss: 21.9513 - val_loss: 22.7539\n",
            "Epoch 61/100\n",
            "11/11 [==============================] - 0s 8ms/step - loss: 22.1531 - val_loss: 22.7666\n",
            "Epoch 62/100\n",
            "11/11 [==============================] - 0s 5ms/step - loss: 21.8815 - val_loss: 22.8201\n",
            "Epoch 63/100\n",
            "11/11 [==============================] - 0s 6ms/step - loss: 21.9473 - val_loss: 22.9255\n",
            "Epoch 64/100\n",
            "11/11 [==============================] - 0s 7ms/step - loss: 21.8293 - val_loss: 22.3157\n",
            "Epoch 65/100\n",
            "11/11 [==============================] - 0s 7ms/step - loss: 21.8254 - val_loss: 22.0437\n",
            "Epoch 66/100\n",
            "11/11 [==============================] - 0s 7ms/step - loss: 21.5308 - val_loss: 21.9985\n",
            "Epoch 67/100\n",
            "11/11 [==============================] - 0s 6ms/step - loss: 21.5872 - val_loss: 21.8793\n",
            "Epoch 68/100\n",
            "11/11 [==============================] - 0s 7ms/step - loss: 21.5309 - val_loss: 21.7354\n",
            "Epoch 69/100\n",
            "11/11 [==============================] - 0s 5ms/step - loss: 21.4105 - val_loss: 22.1553\n",
            "Epoch 70/100\n",
            "11/11 [==============================] - 0s 7ms/step - loss: 21.1601 - val_loss: 22.1385\n",
            "Epoch 71/100\n",
            "11/11 [==============================] - 0s 6ms/step - loss: 21.0865 - val_loss: 22.0751\n",
            "Epoch 72/100\n",
            "11/11 [==============================] - 0s 7ms/step - loss: 21.0430 - val_loss: 22.0533\n",
            "Epoch 73/100\n",
            "11/11 [==============================] - 0s 6ms/step - loss: 21.0266 - val_loss: 22.2169\n",
            "Epoch 74/100\n",
            "11/11 [==============================] - 0s 6ms/step - loss: 20.9362 - val_loss: 22.1146\n",
            "Epoch 75/100\n",
            "11/11 [==============================] - 0s 7ms/step - loss: 20.9145 - val_loss: 22.0378\n",
            "Epoch 76/100\n",
            "11/11 [==============================] - 0s 7ms/step - loss: 20.8753 - val_loss: 22.0502\n",
            "Epoch 77/100\n",
            "11/11 [==============================] - 0s 9ms/step - loss: 20.7576 - val_loss: 22.0068\n",
            "Epoch 78/100\n",
            "11/11 [==============================] - 0s 10ms/step - loss: 20.6736 - val_loss: 21.6677\n",
            "Epoch 79/100\n",
            "11/11 [==============================] - 0s 7ms/step - loss: 20.5521 - val_loss: 21.5655\n",
            "Epoch 80/100\n",
            "11/11 [==============================] - 0s 9ms/step - loss: 20.5348 - val_loss: 21.6396\n",
            "Epoch 81/100\n",
            "11/11 [==============================] - 0s 8ms/step - loss: 20.4426 - val_loss: 21.7496\n",
            "Epoch 82/100\n",
            "11/11 [==============================] - 0s 8ms/step - loss: 20.4439 - val_loss: 21.5411\n",
            "Epoch 83/100\n",
            "11/11 [==============================] - 0s 8ms/step - loss: 20.3524 - val_loss: 21.7455\n",
            "Epoch 84/100\n",
            "11/11 [==============================] - 0s 8ms/step - loss: 20.3805 - val_loss: 21.7970\n",
            "Epoch 85/100\n",
            "11/11 [==============================] - 0s 8ms/step - loss: 20.3339 - val_loss: 21.5492\n",
            "Epoch 86/100\n",
            "11/11 [==============================] - 0s 10ms/step - loss: 20.1768 - val_loss: 22.0008\n",
            "Epoch 87/100\n",
            "11/11 [==============================] - 0s 9ms/step - loss: 20.1304 - val_loss: 21.6030\n",
            "Epoch 88/100\n",
            "11/11 [==============================] - 0s 9ms/step - loss: 20.5001 - val_loss: 21.8087\n",
            "Epoch 89/100\n",
            "11/11 [==============================] - 0s 8ms/step - loss: 20.1763 - val_loss: 21.5150\n",
            "Epoch 90/100\n",
            "11/11 [==============================] - 0s 9ms/step - loss: 20.4412 - val_loss: 21.3480\n",
            "Epoch 91/100\n",
            "11/11 [==============================] - 0s 9ms/step - loss: 20.0362 - val_loss: 21.3988\n",
            "Epoch 92/100\n",
            "11/11 [==============================] - 0s 7ms/step - loss: 20.1273 - val_loss: 21.5124\n",
            "Epoch 93/100\n",
            "11/11 [==============================] - 0s 8ms/step - loss: 20.0048 - val_loss: 21.6590\n",
            "Epoch 94/100\n",
            "11/11 [==============================] - 0s 11ms/step - loss: 19.9646 - val_loss: 21.7004\n",
            "Epoch 95/100\n",
            "11/11 [==============================] - 0s 7ms/step - loss: 19.9140 - val_loss: 21.4880\n",
            "Epoch 96/100\n",
            "11/11 [==============================] - 0s 8ms/step - loss: 19.7820 - val_loss: 21.6768\n",
            "Epoch 97/100\n",
            "11/11 [==============================] - 0s 10ms/step - loss: 19.7657 - val_loss: 21.4889\n",
            "Epoch 98/100\n",
            "11/11 [==============================] - 0s 8ms/step - loss: 19.8412 - val_loss: 21.6536\n",
            "Epoch 99/100\n",
            "11/11 [==============================] - 0s 9ms/step - loss: 19.8535 - val_loss: 21.7066\n",
            "Epoch 100/100\n",
            "11/11 [==============================] - 0s 9ms/step - loss: 19.7076 - val_loss: 21.6881\n"
          ]
        }
      ]
    },
    {
      "cell_type": "code",
      "source": [
        "y_pred=model.predict(X_test)"
      ],
      "metadata": {
        "colab": {
          "base_uri": "https://localhost:8080/"
        },
        "id": "8yyEvyPWrVJJ",
        "outputId": "d6092b88-a18e-40d1-c3cc-c7af7be31005"
      },
      "execution_count": 97,
      "outputs": [
        {
          "output_type": "stream",
          "name": "stdout",
          "text": [
            "4/4 [==============================] - 0s 5ms/step\n"
          ]
        }
      ]
    },
    {
      "cell_type": "code",
      "source": [
        "mse=mean_squared_error(Y_test,y_pred)\n",
        "print(mse)"
      ],
      "metadata": {
        "colab": {
          "base_uri": "https://localhost:8080/"
        },
        "id": "u3JrqKlltpt_",
        "outputId": "52f9459f-2b70-4408-acda-90b150ae9e9c"
      },
      "execution_count": 98,
      "outputs": [
        {
          "output_type": "stream",
          "name": "stdout",
          "text": [
            "16.530726416537878\n"
          ]
        }
      ]
    },
    {
      "cell_type": "code",
      "source": [
        "r2_score(Y_test,y_pred)"
      ],
      "metadata": {
        "colab": {
          "base_uri": "https://localhost:8080/"
        },
        "id": "etjyzaUMtyDp",
        "outputId": "8393681b-e150-4c45-ff4c-e084fe129a55"
      },
      "execution_count": 99,
      "outputs": [
        {
          "output_type": "execute_result",
          "data": {
            "text/plain": [
              "0.797691022824729"
            ]
          },
          "metadata": {},
          "execution_count": 99
        }
      ]
    },
    {
      "cell_type": "code",
      "source": [],
      "metadata": {
        "id": "dU76imSct8li"
      },
      "execution_count": null,
      "outputs": []
    }
  ]
}