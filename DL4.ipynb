{
  "nbformat": 4,
  "nbformat_minor": 0,
  "metadata": {
    "colab": {
      "provenance": []
    },
    "kernelspec": {
      "name": "python3",
      "display_name": "Python 3"
    },
    "language_info": {
      "name": "python"
    }
  },
  "cells": [
    {
      "cell_type": "code",
      "execution_count": 48,
      "metadata": {
        "id": "v_wTvyHRUCZ3"
      },
      "outputs": [],
      "source": [
        "import pandas as pd\n",
        "import numpy as np\n",
        "import matplotlib.pyplot as plt\n",
        "from tensorflow.keras import layers,models"
      ]
    },
    {
      "cell_type": "code",
      "source": [
        "data=pd.read_csv('Google_Stock_Price_Train.csv')"
      ],
      "metadata": {
        "id": "xOfSV_5eU6sA"
      },
      "execution_count": 49,
      "outputs": []
    },
    {
      "cell_type": "code",
      "source": [
        "data.head()"
      ],
      "metadata": {
        "colab": {
          "base_uri": "https://localhost:8080/",
          "height": 206
        },
        "id": "xXtJ71M9Vr5Y",
        "outputId": "b8c748ee-1d25-44d3-d41e-146f575b768a"
      },
      "execution_count": 50,
      "outputs": [
        {
          "output_type": "execute_result",
          "data": {
            "text/plain": [
              "         Date    Open    High     Low   Close      Volume\n",
              "0  01/03/2012  325.25  332.83  324.97  663.59   7,380,500\n",
              "1  01/04/2012  331.27  333.87  329.08  666.45   5,749,400\n",
              "2  01/05/2012  329.83  330.75  326.89  657.21   6,590,300\n",
              "3  01/06/2012  328.34  328.77  323.68  648.24   5,405,900\n",
              "4  01/09/2012  322.04  322.29  309.46  620.76  11,688,800"
            ],
            "text/html": [
              "\n",
              "  <div id=\"df-a1c3733b-b4b9-4b24-84e6-fa8ce080491f\" class=\"colab-df-container\">\n",
              "    <div>\n",
              "<style scoped>\n",
              "    .dataframe tbody tr th:only-of-type {\n",
              "        vertical-align: middle;\n",
              "    }\n",
              "\n",
              "    .dataframe tbody tr th {\n",
              "        vertical-align: top;\n",
              "    }\n",
              "\n",
              "    .dataframe thead th {\n",
              "        text-align: right;\n",
              "    }\n",
              "</style>\n",
              "<table border=\"1\" class=\"dataframe\">\n",
              "  <thead>\n",
              "    <tr style=\"text-align: right;\">\n",
              "      <th></th>\n",
              "      <th>Date</th>\n",
              "      <th>Open</th>\n",
              "      <th>High</th>\n",
              "      <th>Low</th>\n",
              "      <th>Close</th>\n",
              "      <th>Volume</th>\n",
              "    </tr>\n",
              "  </thead>\n",
              "  <tbody>\n",
              "    <tr>\n",
              "      <th>0</th>\n",
              "      <td>01/03/2012</td>\n",
              "      <td>325.25</td>\n",
              "      <td>332.83</td>\n",
              "      <td>324.97</td>\n",
              "      <td>663.59</td>\n",
              "      <td>7,380,500</td>\n",
              "    </tr>\n",
              "    <tr>\n",
              "      <th>1</th>\n",
              "      <td>01/04/2012</td>\n",
              "      <td>331.27</td>\n",
              "      <td>333.87</td>\n",
              "      <td>329.08</td>\n",
              "      <td>666.45</td>\n",
              "      <td>5,749,400</td>\n",
              "    </tr>\n",
              "    <tr>\n",
              "      <th>2</th>\n",
              "      <td>01/05/2012</td>\n",
              "      <td>329.83</td>\n",
              "      <td>330.75</td>\n",
              "      <td>326.89</td>\n",
              "      <td>657.21</td>\n",
              "      <td>6,590,300</td>\n",
              "    </tr>\n",
              "    <tr>\n",
              "      <th>3</th>\n",
              "      <td>01/06/2012</td>\n",
              "      <td>328.34</td>\n",
              "      <td>328.77</td>\n",
              "      <td>323.68</td>\n",
              "      <td>648.24</td>\n",
              "      <td>5,405,900</td>\n",
              "    </tr>\n",
              "    <tr>\n",
              "      <th>4</th>\n",
              "      <td>01/09/2012</td>\n",
              "      <td>322.04</td>\n",
              "      <td>322.29</td>\n",
              "      <td>309.46</td>\n",
              "      <td>620.76</td>\n",
              "      <td>11,688,800</td>\n",
              "    </tr>\n",
              "  </tbody>\n",
              "</table>\n",
              "</div>\n",
              "    <div class=\"colab-df-buttons\">\n",
              "\n",
              "  <div class=\"colab-df-container\">\n",
              "    <button class=\"colab-df-convert\" onclick=\"convertToInteractive('df-a1c3733b-b4b9-4b24-84e6-fa8ce080491f')\"\n",
              "            title=\"Convert this dataframe to an interactive table.\"\n",
              "            style=\"display:none;\">\n",
              "\n",
              "  <svg xmlns=\"http://www.w3.org/2000/svg\" height=\"24px\" viewBox=\"0 -960 960 960\">\n",
              "    <path d=\"M120-120v-720h720v720H120Zm60-500h600v-160H180v160Zm220 220h160v-160H400v160Zm0 220h160v-160H400v160ZM180-400h160v-160H180v160Zm440 0h160v-160H620v160ZM180-180h160v-160H180v160Zm440 0h160v-160H620v160Z\"/>\n",
              "  </svg>\n",
              "    </button>\n",
              "\n",
              "  <style>\n",
              "    .colab-df-container {\n",
              "      display:flex;\n",
              "      gap: 12px;\n",
              "    }\n",
              "\n",
              "    .colab-df-convert {\n",
              "      background-color: #E8F0FE;\n",
              "      border: none;\n",
              "      border-radius: 50%;\n",
              "      cursor: pointer;\n",
              "      display: none;\n",
              "      fill: #1967D2;\n",
              "      height: 32px;\n",
              "      padding: 0 0 0 0;\n",
              "      width: 32px;\n",
              "    }\n",
              "\n",
              "    .colab-df-convert:hover {\n",
              "      background-color: #E2EBFA;\n",
              "      box-shadow: 0px 1px 2px rgba(60, 64, 67, 0.3), 0px 1px 3px 1px rgba(60, 64, 67, 0.15);\n",
              "      fill: #174EA6;\n",
              "    }\n",
              "\n",
              "    .colab-df-buttons div {\n",
              "      margin-bottom: 4px;\n",
              "    }\n",
              "\n",
              "    [theme=dark] .colab-df-convert {\n",
              "      background-color: #3B4455;\n",
              "      fill: #D2E3FC;\n",
              "    }\n",
              "\n",
              "    [theme=dark] .colab-df-convert:hover {\n",
              "      background-color: #434B5C;\n",
              "      box-shadow: 0px 1px 3px 1px rgba(0, 0, 0, 0.15);\n",
              "      filter: drop-shadow(0px 1px 2px rgba(0, 0, 0, 0.3));\n",
              "      fill: #FFFFFF;\n",
              "    }\n",
              "  </style>\n",
              "\n",
              "    <script>\n",
              "      const buttonEl =\n",
              "        document.querySelector('#df-a1c3733b-b4b9-4b24-84e6-fa8ce080491f button.colab-df-convert');\n",
              "      buttonEl.style.display =\n",
              "        google.colab.kernel.accessAllowed ? 'block' : 'none';\n",
              "\n",
              "      async function convertToInteractive(key) {\n",
              "        const element = document.querySelector('#df-a1c3733b-b4b9-4b24-84e6-fa8ce080491f');\n",
              "        const dataTable =\n",
              "          await google.colab.kernel.invokeFunction('convertToInteractive',\n",
              "                                                    [key], {});\n",
              "        if (!dataTable) return;\n",
              "\n",
              "        const docLinkHtml = 'Like what you see? Visit the ' +\n",
              "          '<a target=\"_blank\" href=https://colab.research.google.com/notebooks/data_table.ipynb>data table notebook</a>'\n",
              "          + ' to learn more about interactive tables.';\n",
              "        element.innerHTML = '';\n",
              "        dataTable['output_type'] = 'display_data';\n",
              "        await google.colab.output.renderOutput(dataTable, element);\n",
              "        const docLink = document.createElement('div');\n",
              "        docLink.innerHTML = docLinkHtml;\n",
              "        element.appendChild(docLink);\n",
              "      }\n",
              "    </script>\n",
              "  </div>\n",
              "\n",
              "\n",
              "<div id=\"df-fdc66330-3d9a-4a08-8285-16c2d6001327\">\n",
              "  <button class=\"colab-df-quickchart\" onclick=\"quickchart('df-fdc66330-3d9a-4a08-8285-16c2d6001327')\"\n",
              "            title=\"Suggest charts\"\n",
              "            style=\"display:none;\">\n",
              "\n",
              "<svg xmlns=\"http://www.w3.org/2000/svg\" height=\"24px\"viewBox=\"0 0 24 24\"\n",
              "     width=\"24px\">\n",
              "    <g>\n",
              "        <path d=\"M19 3H5c-1.1 0-2 .9-2 2v14c0 1.1.9 2 2 2h14c1.1 0 2-.9 2-2V5c0-1.1-.9-2-2-2zM9 17H7v-7h2v7zm4 0h-2V7h2v10zm4 0h-2v-4h2v4z\"/>\n",
              "    </g>\n",
              "</svg>\n",
              "  </button>\n",
              "\n",
              "<style>\n",
              "  .colab-df-quickchart {\n",
              "      --bg-color: #E8F0FE;\n",
              "      --fill-color: #1967D2;\n",
              "      --hover-bg-color: #E2EBFA;\n",
              "      --hover-fill-color: #174EA6;\n",
              "      --disabled-fill-color: #AAA;\n",
              "      --disabled-bg-color: #DDD;\n",
              "  }\n",
              "\n",
              "  [theme=dark] .colab-df-quickchart {\n",
              "      --bg-color: #3B4455;\n",
              "      --fill-color: #D2E3FC;\n",
              "      --hover-bg-color: #434B5C;\n",
              "      --hover-fill-color: #FFFFFF;\n",
              "      --disabled-bg-color: #3B4455;\n",
              "      --disabled-fill-color: #666;\n",
              "  }\n",
              "\n",
              "  .colab-df-quickchart {\n",
              "    background-color: var(--bg-color);\n",
              "    border: none;\n",
              "    border-radius: 50%;\n",
              "    cursor: pointer;\n",
              "    display: none;\n",
              "    fill: var(--fill-color);\n",
              "    height: 32px;\n",
              "    padding: 0;\n",
              "    width: 32px;\n",
              "  }\n",
              "\n",
              "  .colab-df-quickchart:hover {\n",
              "    background-color: var(--hover-bg-color);\n",
              "    box-shadow: 0 1px 2px rgba(60, 64, 67, 0.3), 0 1px 3px 1px rgba(60, 64, 67, 0.15);\n",
              "    fill: var(--button-hover-fill-color);\n",
              "  }\n",
              "\n",
              "  .colab-df-quickchart-complete:disabled,\n",
              "  .colab-df-quickchart-complete:disabled:hover {\n",
              "    background-color: var(--disabled-bg-color);\n",
              "    fill: var(--disabled-fill-color);\n",
              "    box-shadow: none;\n",
              "  }\n",
              "\n",
              "  .colab-df-spinner {\n",
              "    border: 2px solid var(--fill-color);\n",
              "    border-color: transparent;\n",
              "    border-bottom-color: var(--fill-color);\n",
              "    animation:\n",
              "      spin 1s steps(1) infinite;\n",
              "  }\n",
              "\n",
              "  @keyframes spin {\n",
              "    0% {\n",
              "      border-color: transparent;\n",
              "      border-bottom-color: var(--fill-color);\n",
              "      border-left-color: var(--fill-color);\n",
              "    }\n",
              "    20% {\n",
              "      border-color: transparent;\n",
              "      border-left-color: var(--fill-color);\n",
              "      border-top-color: var(--fill-color);\n",
              "    }\n",
              "    30% {\n",
              "      border-color: transparent;\n",
              "      border-left-color: var(--fill-color);\n",
              "      border-top-color: var(--fill-color);\n",
              "      border-right-color: var(--fill-color);\n",
              "    }\n",
              "    40% {\n",
              "      border-color: transparent;\n",
              "      border-right-color: var(--fill-color);\n",
              "      border-top-color: var(--fill-color);\n",
              "    }\n",
              "    60% {\n",
              "      border-color: transparent;\n",
              "      border-right-color: var(--fill-color);\n",
              "    }\n",
              "    80% {\n",
              "      border-color: transparent;\n",
              "      border-right-color: var(--fill-color);\n",
              "      border-bottom-color: var(--fill-color);\n",
              "    }\n",
              "    90% {\n",
              "      border-color: transparent;\n",
              "      border-bottom-color: var(--fill-color);\n",
              "    }\n",
              "  }\n",
              "</style>\n",
              "\n",
              "  <script>\n",
              "    async function quickchart(key) {\n",
              "      const quickchartButtonEl =\n",
              "        document.querySelector('#' + key + ' button');\n",
              "      quickchartButtonEl.disabled = true;  // To prevent multiple clicks.\n",
              "      quickchartButtonEl.classList.add('colab-df-spinner');\n",
              "      try {\n",
              "        const charts = await google.colab.kernel.invokeFunction(\n",
              "            'suggestCharts', [key], {});\n",
              "      } catch (error) {\n",
              "        console.error('Error during call to suggestCharts:', error);\n",
              "      }\n",
              "      quickchartButtonEl.classList.remove('colab-df-spinner');\n",
              "      quickchartButtonEl.classList.add('colab-df-quickchart-complete');\n",
              "    }\n",
              "    (() => {\n",
              "      let quickchartButtonEl =\n",
              "        document.querySelector('#df-fdc66330-3d9a-4a08-8285-16c2d6001327 button');\n",
              "      quickchartButtonEl.style.display =\n",
              "        google.colab.kernel.accessAllowed ? 'block' : 'none';\n",
              "    })();\n",
              "  </script>\n",
              "</div>\n",
              "\n",
              "    </div>\n",
              "  </div>\n"
            ],
            "application/vnd.google.colaboratory.intrinsic+json": {
              "type": "dataframe",
              "variable_name": "data",
              "summary": "{\n  \"name\": \"data\",\n  \"rows\": 1509,\n  \"fields\": [\n    {\n      \"column\": \"Date\",\n      \"properties\": {\n        \"dtype\": \"string\",\n        \"num_unique_values\": 1509,\n        \"samples\": [\n          \"4/23/2014\",\n          \"7/25/2016\",\n          \"07/12/2013\"\n        ],\n        \"semantic_type\": \"\",\n        \"description\": \"\"\n      }\n    },\n    {\n      \"column\": \"Open\",\n      \"properties\": {\n        \"dtype\": \"number\",\n        \"std\": 202.6072335725472,\n        \"min\": 279.12,\n        \"max\": 1075.199951,\n        \"num_unique_values\": 1459,\n        \"samples\": [\n          980.0,\n          537.21,\n          442.05\n        ],\n        \"semantic_type\": \"\",\n        \"description\": \"\"\n      }\n    },\n    {\n      \"column\": \"High\",\n      \"properties\": {\n        \"dtype\": \"number\",\n        \"std\": 203.7931579825553,\n        \"min\": 281.21,\n        \"max\": 1078.48999,\n        \"num_unique_values\": 1468,\n        \"samples\": [\n          776.96,\n          378.23,\n          791.340027\n        ],\n        \"semantic_type\": \"\",\n        \"description\": \"\"\n      }\n    },\n    {\n      \"column\": \"Low\",\n      \"properties\": {\n        \"dtype\": \"number\",\n        \"std\": 201.41862459116132,\n        \"min\": 277.22,\n        \"max\": 1063.550049,\n        \"num_unique_values\": 1470,\n        \"samples\": [\n          735.56,\n          381.08,\n          770.41\n        ],\n        \"semantic_type\": \"\",\n        \"description\": \"\"\n      }\n    },\n    {\n      \"column\": \"Close\",\n      \"properties\": {\n        \"dtype\": \"string\",\n        \"num_unique_values\": 1489,\n        \"samples\": [\n          \"646.67\",\n          \"823.05\",\n          \"756.94\"\n        ],\n        \"semantic_type\": \"\",\n        \"description\": \"\"\n      }\n    },\n    {\n      \"column\": \"Volume\",\n      \"properties\": {\n        \"dtype\": \"string\",\n        \"num_unique_values\": 1487,\n        \"samples\": [\n          \"1672000\",\n          \"885800\",\n          \"2,726,100\"\n        ],\n        \"semantic_type\": \"\",\n        \"description\": \"\"\n      }\n    }\n  ]\n}"
            }
          },
          "metadata": {},
          "execution_count": 50
        }
      ]
    },
    {
      "cell_type": "code",
      "source": [
        "train_data=data.iloc[:,1:2].values"
      ],
      "metadata": {
        "id": "9UEHbv8yVw45"
      },
      "execution_count": 51,
      "outputs": []
    },
    {
      "cell_type": "code",
      "source": [
        "train_data.shape"
      ],
      "metadata": {
        "colab": {
          "base_uri": "https://localhost:8080/"
        },
        "id": "ntopZXGkWMCG",
        "outputId": "128fc042-a711-49c6-bc82-bd86d14491fd"
      },
      "execution_count": 52,
      "outputs": [
        {
          "output_type": "execute_result",
          "data": {
            "text/plain": [
              "(1509, 1)"
            ]
          },
          "metadata": {},
          "execution_count": 52
        }
      ]
    },
    {
      "cell_type": "code",
      "source": [
        "from sklearn.preprocessing import MinMaxScaler\n",
        "sc=MinMaxScaler(feature_range=(0,1))\n",
        "train_scaled=sc.fit_transform(train_data)"
      ],
      "metadata": {
        "id": "E8xUdjpNWOUg"
      },
      "execution_count": 53,
      "outputs": []
    },
    {
      "cell_type": "code",
      "source": [],
      "metadata": {
        "id": "LW5Y5NGsWb6N"
      },
      "execution_count": 53,
      "outputs": []
    },
    {
      "cell_type": "code",
      "source": [
        "x_train=[]\n",
        "y_train=[]\n",
        "for i in range(60,len(train_scaled)):\n",
        "  x_train.append(train_scaled[i-60:i,0])\n",
        "  y_train.append(train_scaled[i, 0])\n",
        "\n",
        "x_train,y_train=np.array(x_train),np.array(y_train)\n"
      ],
      "metadata": {
        "id": "6GPTEoc_XI6B"
      },
      "execution_count": 54,
      "outputs": []
    },
    {
      "cell_type": "code",
      "source": [
        "x_train=np.reshape(x_train,newshape=(x_train.shape[0],x_train.shape[1],1))"
      ],
      "metadata": {
        "id": "DQcvGz1uYFyL"
      },
      "execution_count": 55,
      "outputs": []
    },
    {
      "cell_type": "code",
      "source": [
        "x_train.shape"
      ],
      "metadata": {
        "colab": {
          "base_uri": "https://localhost:8080/"
        },
        "id": "rLADj3nmYOxC",
        "outputId": "8c12190d-72a1-4e79-cfcf-4823d70c6919"
      },
      "execution_count": 56,
      "outputs": [
        {
          "output_type": "execute_result",
          "data": {
            "text/plain": [
              "(1449, 60, 1)"
            ]
          },
          "metadata": {},
          "execution_count": 56
        }
      ]
    },
    {
      "cell_type": "code",
      "source": [
        "\n",
        "plt.figure(figsize=(18,8))\n",
        "plt.plot(data['Open'])\n",
        "plt.show()"
      ],
      "metadata": {
        "colab": {
          "base_uri": "https://localhost:8080/",
          "height": 404
        },
        "id": "dIxlczk2Ygv4",
        "outputId": "a9c72d7d-f761-4360-83ab-83e22b130db2"
      },
      "execution_count": 57,
      "outputs": [
        {
          "output_type": "display_data",
          "data": {
            "text/plain": [
              "<Figure size 1800x800 with 1 Axes>"
            ],
            "image/png": "[encoded data removed]"
          },
          "metadata": {}
        }
      ]
    },
    {
      "cell_type": "code",
      "source": [
        "model=models.Sequential()"
      ],
      "metadata": {
        "id": "lKbxSk5GYxey"
      },
      "execution_count": 58,
      "outputs": []
    },
    {
      "cell_type": "code",
      "source": [
        "model.add(layers.LSTM(units=50,return_sequences=True,input_shape=(x_train.shape[1],1)))\n",
        "model.add(layers.Dropout(rate=0.2))\n",
        "model.add(layers.LSTM(units=50,return_sequences=True))\n",
        "model.add(layers.Dropout(rate=0.2))\n",
        "model.add(layers.LSTM(units=50,return_sequences=True))\n",
        "model.add(layers.Dropout(rate=0.2))\n",
        "model.add(layers.LSTM(units=50,return_sequences=False))\n",
        "model.add(layers.Dropout(rate=0.2))\n",
        "model.add(layers.Dense(units=1))"
      ],
      "metadata": {
        "id": "KnmO8L9DY8dB"
      },
      "execution_count": 59,
      "outputs": []
    },
    {
      "cell_type": "code",
      "source": [
        "model.summary()"
      ],
      "metadata": {
        "colab": {
          "base_uri": "https://localhost:8080/"
        },
        "id": "UvsI9qqiaFSC",
        "outputId": "fcd47067-6ea7-44a6-eafb-a7f72c0170ad"
      },
      "execution_count": 60,
      "outputs": [
        {
          "output_type": "stream",
          "name": "stdout",
          "text": [
            "Model: \"sequential_2\"\n",
            "_________________________________________________________________\n",
            " Layer (type)                Output Shape              Param #   \n",
            "=================================================================\n",
            " lstm_6 (LSTM)               (None, 60, 50)            10400     \n",
            "                                                                 \n",
            " dropout_6 (Dropout)         (None, 60, 50)            0         \n",
            "                                                                 \n",
            " lstm_7 (LSTM)               (None, 60, 50)            20200     \n",
            "                                                                 \n",
            " dropout_7 (Dropout)         (None, 60, 50)            0         \n",
            "                                                                 \n",
            " lstm_8 (LSTM)               (None, 60, 50)            20200     \n",
            "                                                                 \n",
            " dropout_8 (Dropout)         (None, 60, 50)            0         \n",
            "                                                                 \n",
            " lstm_9 (LSTM)               (None, 50)                20200     \n",
            "                                                                 \n",
            " dropout_9 (Dropout)         (None, 50)                0         \n",
            "                                                                 \n",
            " dense_2 (Dense)             (None, 1)                 51        \n",
            "                                                                 \n",
            "=================================================================\n",
            "Total params: 71051 (277.54 KB)\n",
            "Trainable params: 71051 (277.54 KB)\n",
            "Non-trainable params: 0 (0.00 Byte)\n",
            "_________________________________________________________________\n"
          ]
        }
      ]
    },
    {
      "cell_type": "code",
      "source": [
        "model.compile(optimizer='adam',loss='mean_squared_error')"
      ],
      "metadata": {
        "id": "xkiqWajcaHql"
      },
      "execution_count": 61,
      "outputs": []
    },
    {
      "cell_type": "code",
      "source": [
        "model.fit(x=x_train,y=y_train,epochs=100,batch_size=32)"
      ],
      "metadata": {
        "colab": {
          "base_uri": "https://localhost:8080/"
        },
        "id": "ieUnHWZiau9n",
        "outputId": "1e3c4ddc-82c0-4995-df2a-1563f33961a5"
      },
      "execution_count": 62,
      "outputs": [
        {
          "output_type": "stream",
          "name": "stdout",
          "text": [
            "Epoch 1/100\n",
            "46/46 [==============================] - 14s 125ms/step - loss: 0.0274\n",
            "Epoch 2/100\n",
            "46/46 [==============================] - 5s 112ms/step - loss: 0.0039\n",
            "Epoch 3/100\n",
            "46/46 [==============================] - 5s 104ms/step - loss: 0.0035\n",
            "Epoch 4/100\n",
            "46/46 [==============================] - 6s 134ms/step - loss: 0.0035\n",
            "Epoch 5/100\n",
            "46/46 [==============================] - 5s 109ms/step - loss: 0.0031\n",
            "Epoch 6/100\n",
            "46/46 [==============================] - 6s 130ms/step - loss: 0.0037\n",
            "Epoch 7/100\n",
            "46/46 [==============================] - 5s 105ms/step - loss: 0.0034\n",
            "Epoch 8/100\n",
            "46/46 [==============================] - 5s 108ms/step - loss: 0.0032\n",
            "Epoch 9/100\n",
            "46/46 [==============================] - 6s 125ms/step - loss: 0.0029\n",
            "Epoch 10/100\n",
            "46/46 [==============================] - 5s 107ms/step - loss: 0.0029\n",
            "Epoch 11/100\n",
            "46/46 [==============================] - 6s 127ms/step - loss: 0.0025\n",
            "Epoch 12/100\n",
            "46/46 [==============================] - 5s 107ms/step - loss: 0.0028\n",
            "Epoch 13/100\n",
            "46/46 [==============================] - 5s 117ms/step - loss: 0.0024\n",
            "Epoch 14/100\n",
            "46/46 [==============================] - 6s 122ms/step - loss: 0.0029\n",
            "Epoch 15/100\n",
            "46/46 [==============================] - 5s 108ms/step - loss: 0.0026\n",
            "Epoch 16/100\n",
            "46/46 [==============================] - 9s 200ms/step - loss: 0.0026\n",
            "Epoch 17/100\n",
            "46/46 [==============================] - 8s 180ms/step - loss: 0.0021\n",
            "Epoch 18/100\n",
            "46/46 [==============================] - 10s 218ms/step - loss: 0.0022\n",
            "Epoch 19/100\n",
            "46/46 [==============================] - 9s 193ms/step - loss: 0.0021\n",
            "Epoch 20/100\n",
            "46/46 [==============================] - 10s 227ms/step - loss: 0.0022\n",
            "Epoch 21/100\n",
            "46/46 [==============================] - 8s 181ms/step - loss: 0.0020\n",
            "Epoch 22/100\n",
            "46/46 [==============================] - 8s 176ms/step - loss: 0.0021\n",
            "Epoch 23/100\n",
            "46/46 [==============================] - 7s 158ms/step - loss: 0.0019\n",
            "Epoch 24/100\n",
            "46/46 [==============================] - 8s 182ms/step - loss: 0.0020\n",
            "Epoch 25/100\n",
            "46/46 [==============================] - 6s 128ms/step - loss: 0.0018\n",
            "Epoch 26/100\n",
            "46/46 [==============================] - 5s 105ms/step - loss: 0.0016\n",
            "Epoch 27/100\n",
            "46/46 [==============================] - 7s 161ms/step - loss: 0.0018\n",
            "Epoch 28/100\n",
            "46/46 [==============================] - 6s 133ms/step - loss: 0.0017\n",
            "Epoch 29/100\n",
            "46/46 [==============================] - 7s 148ms/step - loss: 0.0016\n",
            "Epoch 30/100\n",
            "46/46 [==============================] - 5s 105ms/step - loss: 0.0017\n",
            "Epoch 31/100\n",
            "46/46 [==============================] - 6s 136ms/step - loss: 0.0018\n",
            "Epoch 32/100\n",
            "46/46 [==============================] - 5s 105ms/step - loss: 0.0018\n",
            "Epoch 33/100\n",
            "46/46 [==============================] - 5s 103ms/step - loss: 0.0017\n",
            "Epoch 34/100\n",
            "46/46 [==============================] - 7s 163ms/step - loss: 0.0016\n",
            "Epoch 35/100\n",
            "46/46 [==============================] - 9s 196ms/step - loss: 0.0018\n",
            "Epoch 36/100\n",
            "46/46 [==============================] - 10s 210ms/step - loss: 0.0016\n",
            "Epoch 37/100\n",
            "46/46 [==============================] - 10s 208ms/step - loss: 0.0016\n",
            "Epoch 38/100\n",
            "46/46 [==============================] - 9s 201ms/step - loss: 0.0016\n",
            "Epoch 39/100\n",
            "46/46 [==============================] - 5s 112ms/step - loss: 0.0015\n",
            "Epoch 40/100\n",
            "46/46 [==============================] - 6s 127ms/step - loss: 0.0017\n",
            "Epoch 41/100\n",
            "46/46 [==============================] - 5s 105ms/step - loss: 0.0015\n",
            "Epoch 42/100\n",
            "46/46 [==============================] - 5s 112ms/step - loss: 0.0013\n",
            "Epoch 43/100\n",
            "46/46 [==============================] - 5s 117ms/step - loss: 0.0016\n",
            "Epoch 44/100\n",
            "46/46 [==============================] - 5s 103ms/step - loss: 0.0016\n",
            "Epoch 45/100\n",
            "46/46 [==============================] - 6s 130ms/step - loss: 0.0019\n",
            "Epoch 46/100\n",
            "46/46 [==============================] - 5s 110ms/step - loss: 0.0017\n",
            "Epoch 47/100\n",
            "46/46 [==============================] - 6s 134ms/step - loss: 0.0015\n",
            "Epoch 48/100\n",
            "46/46 [==============================] - 5s 105ms/step - loss: 0.0015\n",
            "Epoch 49/100\n",
            "46/46 [==============================] - 5s 110ms/step - loss: 0.0016\n",
            "Epoch 50/100\n",
            "46/46 [==============================] - 6s 136ms/step - loss: 0.0014\n",
            "Epoch 51/100\n",
            "46/46 [==============================] - 5s 110ms/step - loss: 0.0014\n",
            "Epoch 52/100\n",
            "46/46 [==============================] - 6s 127ms/step - loss: 0.0013\n",
            "Epoch 53/100\n",
            "46/46 [==============================] - 6s 124ms/step - loss: 0.0013\n",
            "Epoch 54/100\n",
            "46/46 [==============================] - 6s 130ms/step - loss: 0.0013\n",
            "Epoch 55/100\n",
            "46/46 [==============================] - 5s 105ms/step - loss: 0.0013\n",
            "Epoch 56/100\n",
            "46/46 [==============================] - 5s 114ms/step - loss: 0.0014\n",
            "Epoch 57/100\n",
            "46/46 [==============================] - 6s 119ms/step - loss: 0.0013\n",
            "Epoch 58/100\n",
            "46/46 [==============================] - 5s 105ms/step - loss: 0.0012\n",
            "Epoch 59/100\n",
            "46/46 [==============================] - 6s 131ms/step - loss: 0.0012\n",
            "Epoch 60/100\n",
            "46/46 [==============================] - 5s 107ms/step - loss: 0.0013\n",
            "Epoch 61/100\n",
            "46/46 [==============================] - 6s 130ms/step - loss: 0.0013\n",
            "Epoch 62/100\n",
            "46/46 [==============================] - 5s 107ms/step - loss: 0.0012\n",
            "Epoch 63/100\n",
            "46/46 [==============================] - 5s 103ms/step - loss: 0.0012\n",
            "Epoch 64/100\n",
            "46/46 [==============================] - 6s 127ms/step - loss: 0.0013\n",
            "Epoch 65/100\n",
            "46/46 [==============================] - 5s 102ms/step - loss: 0.0012\n",
            "Epoch 66/100\n",
            "46/46 [==============================] - 6s 128ms/step - loss: 0.0011\n",
            "Epoch 67/100\n",
            "46/46 [==============================] - 5s 104ms/step - loss: 0.0011\n",
            "Epoch 68/100\n",
            "46/46 [==============================] - 5s 106ms/step - loss: 0.0011\n",
            "Epoch 69/100\n",
            "46/46 [==============================] - 6s 125ms/step - loss: 0.0011\n",
            "Epoch 70/100\n",
            "46/46 [==============================] - 5s 103ms/step - loss: 0.0011\n",
            "Epoch 71/100\n",
            "46/46 [==============================] - 6s 130ms/step - loss: 0.0010\n",
            "Epoch 72/100\n",
            "46/46 [==============================] - 5s 107ms/step - loss: 0.0012\n",
            "Epoch 73/100\n",
            "46/46 [==============================] - 7s 146ms/step - loss: 0.0010\n",
            "Epoch 74/100\n",
            "46/46 [==============================] - 5s 104ms/step - loss: 0.0011\n",
            "Epoch 75/100\n",
            "46/46 [==============================] - 5s 103ms/step - loss: 0.0012\n",
            "Epoch 76/100\n",
            "46/46 [==============================] - 6s 134ms/step - loss: 9.6080e-04\n",
            "Epoch 77/100\n",
            "46/46 [==============================] - 5s 104ms/step - loss: 0.0012\n",
            "Epoch 78/100\n",
            "46/46 [==============================] - 6s 130ms/step - loss: 9.7576e-04\n",
            "Epoch 79/100\n",
            "46/46 [==============================] - 5s 106ms/step - loss: 9.8689e-04\n",
            "Epoch 80/100\n",
            "46/46 [==============================] - 5s 105ms/step - loss: 0.0010\n",
            "Epoch 81/100\n",
            "46/46 [==============================] - 6s 127ms/step - loss: 0.0010\n",
            "Epoch 82/100\n",
            "46/46 [==============================] - 5s 109ms/step - loss: 9.5606e-04\n",
            "Epoch 83/100\n",
            "46/46 [==============================] - 7s 151ms/step - loss: 9.3040e-04\n",
            "Epoch 84/100\n",
            "46/46 [==============================] - 5s 118ms/step - loss: 9.1426e-04\n",
            "Epoch 85/100\n",
            "46/46 [==============================] - 6s 130ms/step - loss: 8.8448e-04\n",
            "Epoch 86/100\n",
            "46/46 [==============================] - 5s 108ms/step - loss: 9.1198e-04\n",
            "Epoch 87/100\n",
            "46/46 [==============================] - 5s 118ms/step - loss: 8.9809e-04\n",
            "Epoch 88/100\n",
            "46/46 [==============================] - 5s 114ms/step - loss: 8.8070e-04\n",
            "Epoch 89/100\n",
            "46/46 [==============================] - 5s 104ms/step - loss: 9.9366e-04\n",
            "Epoch 90/100\n",
            "46/46 [==============================] - 6s 127ms/step - loss: 8.8476e-04\n",
            "Epoch 91/100\n",
            "46/46 [==============================] - 5s 103ms/step - loss: 8.6136e-04\n",
            "Epoch 92/100\n",
            "46/46 [==============================] - 6s 127ms/step - loss: 9.4270e-04\n",
            "Epoch 93/100\n",
            "46/46 [==============================] - 5s 105ms/step - loss: 9.8730e-04\n",
            "Epoch 94/100\n",
            "46/46 [==============================] - 5s 104ms/step - loss: 9.1906e-04\n",
            "Epoch 95/100\n",
            "46/46 [==============================] - 6s 132ms/step - loss: 0.0011\n",
            "Epoch 96/100\n",
            "46/46 [==============================] - 5s 104ms/step - loss: 9.4515e-04\n",
            "Epoch 97/100\n",
            "46/46 [==============================] - 6s 126ms/step - loss: 9.2408e-04\n",
            "Epoch 98/100\n",
            "46/46 [==============================] - 5s 104ms/step - loss: 8.0223e-04\n",
            "Epoch 99/100\n",
            "46/46 [==============================] - 5s 107ms/step - loss: 9.0434e-04\n",
            "Epoch 100/100\n",
            "46/46 [==============================] - 6s 125ms/step - loss: 9.8358e-04\n"
          ]
        },
        {
          "output_type": "execute_result",
          "data": {
            "text/plain": [
              "<keras.src.callbacks.History at 0x7affed7ba9b0>"
            ]
          },
          "metadata": {},
          "execution_count": 62
        }
      ]
    },
    {
      "cell_type": "code",
      "source": [
        "test_data=pd.read_csv('Google_Stock_Price_Test.csv')"
      ],
      "metadata": {
        "id": "Jgt6dXJKa4FM"
      },
      "execution_count": 63,
      "outputs": []
    },
    {
      "cell_type": "code",
      "source": [
        "test_data.head()"
      ],
      "metadata": {
        "colab": {
          "base_uri": "https://localhost:8080/",
          "height": 206
        },
        "id": "CHhT4BDnbkqt",
        "outputId": "e4e336a5-bb7b-406d-c69e-98668eeeac03"
      },
      "execution_count": 64,
      "outputs": [
        {
          "output_type": "execute_result",
          "data": {
            "text/plain": [
              "         Date         Open         High          Low        Close   Volume\n",
              "0  02/01/2018  1048.339966  1066.939941  1045.229980  1065.000000  1237600\n",
              "1  03/01/2018  1064.310059  1086.290039  1063.209961  1082.479980  1430200\n",
              "2  04/01/2018  1088.000000  1093.569946  1084.001953  1086.400024  1004600\n",
              "3  05/01/2018  1094.000000  1104.250000  1092.000000  1102.229980  1279100\n",
              "4  08/01/2018  1102.229980  1111.270020  1101.619995  1106.939941  1047600"
            ],
            "text/html": [
              "\n",
              "  <div id=\"df-662d6651-eae3-4721-a288-737178ce10ad\" class=\"colab-df-container\">\n",
              "    <div>\n",
              "<style scoped>\n",
              "    .dataframe tbody tr th:only-of-type {\n",
              "        vertical-align: middle;\n",
              "    }\n",
              "\n",
              "    .dataframe tbody tr th {\n",
              "        vertical-align: top;\n",
              "    }\n",
              "\n",
              "    .dataframe thead th {\n",
              "        text-align: right;\n",
              "    }\n",
              "</style>\n",
              "<table border=\"1\" class=\"dataframe\">\n",
              "  <thead>\n",
              "    <tr style=\"text-align: right;\">\n",
              "      <th></th>\n",
              "      <th>Date</th>\n",
              "      <th>Open</th>\n",
              "      <th>High</th>\n",
              "      <th>Low</th>\n",
              "      <th>Close</th>\n",
              "      <th>Volume</th>\n",
              "    </tr>\n",
              "  </thead>\n",
              "  <tbody>\n",
              "    <tr>\n",
              "      <th>0</th>\n",
              "      <td>02/01/2018</td>\n",
              "      <td>1048.339966</td>\n",
              "      <td>1066.939941</td>\n",
              "      <td>1045.229980</td>\n",
              "      <td>1065.000000</td>\n",
              "      <td>1237600</td>\n",
              "    </tr>\n",
              "    <tr>\n",
              "      <th>1</th>\n",
              "      <td>03/01/2018</td>\n",
              "      <td>1064.310059</td>\n",
              "      <td>1086.290039</td>\n",
              "      <td>1063.209961</td>\n",
              "      <td>1082.479980</td>\n",
              "      <td>1430200</td>\n",
              "    </tr>\n",
              "    <tr>\n",
              "      <th>2</th>\n",
              "      <td>04/01/2018</td>\n",
              "      <td>1088.000000</td>\n",
              "      <td>1093.569946</td>\n",
              "      <td>1084.001953</td>\n",
              "      <td>1086.400024</td>\n",
              "      <td>1004600</td>\n",
              "    </tr>\n",
              "    <tr>\n",
              "      <th>3</th>\n",
              "      <td>05/01/2018</td>\n",
              "      <td>1094.000000</td>\n",
              "      <td>1104.250000</td>\n",
              "      <td>1092.000000</td>\n",
              "      <td>1102.229980</td>\n",
              "      <td>1279100</td>\n",
              "    </tr>\n",
              "    <tr>\n",
              "      <th>4</th>\n",
              "      <td>08/01/2018</td>\n",
              "      <td>1102.229980</td>\n",
              "      <td>1111.270020</td>\n",
              "      <td>1101.619995</td>\n",
              "      <td>1106.939941</td>\n",
              "      <td>1047600</td>\n",
              "    </tr>\n",
              "  </tbody>\n",
              "</table>\n",
              "</div>\n",
              "    <div class=\"colab-df-buttons\">\n",
              "\n",
              "  <div class=\"colab-df-container\">\n",
              "    <button class=\"colab-df-convert\" onclick=\"convertToInteractive('df-662d6651-eae3-4721-a288-737178ce10ad')\"\n",
              "            title=\"Convert this dataframe to an interactive table.\"\n",
              "            style=\"display:none;\">\n",
              "\n",
              "  <svg xmlns=\"http://www.w3.org/2000/svg\" height=\"24px\" viewBox=\"0 -960 960 960\">\n",
              "    <path d=\"M120-120v-720h720v720H120Zm60-500h600v-160H180v160Zm220 220h160v-160H400v160Zm0 220h160v-160H400v160ZM180-400h160v-160H180v160Zm440 0h160v-160H620v160ZM180-180h160v-160H180v160Zm440 0h160v-160H620v160Z\"/>\n",
              "  </svg>\n",
              "    </button>\n",
              "\n",
              "  <style>\n",
              "    .colab-df-container {\n",
              "      display:flex;\n",
              "      gap: 12px;\n",
              "    }\n",
              "\n",
              "    .colab-df-convert {\n",
              "      background-color: #E8F0FE;\n",
              "      border: none;\n",
              "      border-radius: 50%;\n",
              "      cursor: pointer;\n",
              "      display: none;\n",
              "      fill: #1967D2;\n",
              "      height: 32px;\n",
              "      padding: 0 0 0 0;\n",
              "      width: 32px;\n",
              "    }\n",
              "\n",
              "    .colab-df-convert:hover {\n",
              "      background-color: #E2EBFA;\n",
              "      box-shadow: 0px 1px 2px rgba(60, 64, 67, 0.3), 0px 1px 3px 1px rgba(60, 64, 67, 0.15);\n",
              "      fill: #174EA6;\n",
              "    }\n",
              "\n",
              "    .colab-df-buttons div {\n",
              "      margin-bottom: 4px;\n",
              "    }\n",
              "\n",
              "    [theme=dark] .colab-df-convert {\n",
              "      background-color: #3B4455;\n",
              "      fill: #D2E3FC;\n",
              "    }\n",
              "\n",
              "    [theme=dark] .colab-df-convert:hover {\n",
              "      background-color: #434B5C;\n",
              "      box-shadow: 0px 1px 3px 1px rgba(0, 0, 0, 0.15);\n",
              "      filter: drop-shadow(0px 1px 2px rgba(0, 0, 0, 0.3));\n",
              "      fill: #FFFFFF;\n",
              "    }\n",
              "  </style>\n",
              "\n",
              "    <script>\n",
              "      const buttonEl =\n",
              "        document.querySelector('#df-662d6651-eae3-4721-a288-737178ce10ad button.colab-df-convert');\n",
              "      buttonEl.style.display =\n",
              "        google.colab.kernel.accessAllowed ? 'block' : 'none';\n",
              "\n",
              "      async function convertToInteractive(key) {\n",
              "        const element = document.querySelector('#df-662d6651-eae3-4721-a288-737178ce10ad');\n",
              "        const dataTable =\n",
              "          await google.colab.kernel.invokeFunction('convertToInteractive',\n",
              "                                                    [key], {});\n",
              "        if (!dataTable) return;\n",
              "\n",
              "        const docLinkHtml = 'Like what you see? Visit the ' +\n",
              "          '<a target=\"_blank\" href=https://colab.research.google.com/notebooks/data_table.ipynb>data table notebook</a>'\n",
              "          + ' to learn more about interactive tables.';\n",
              "        element.innerHTML = '';\n",
              "        dataTable['output_type'] = 'display_data';\n",
              "        await google.colab.output.renderOutput(dataTable, element);\n",
              "        const docLink = document.createElement('div');\n",
              "        docLink.innerHTML = docLinkHtml;\n",
              "        element.appendChild(docLink);\n",
              "      }\n",
              "    </script>\n",
              "  </div>\n",
              "\n",
              "\n",
              "<div id=\"df-a65c905b-8e8d-4345-b1be-1efae63b0bc9\">\n",
              "  <button class=\"colab-df-quickchart\" onclick=\"quickchart('df-a65c905b-8e8d-4345-b1be-1efae63b0bc9')\"\n",
              "            title=\"Suggest charts\"\n",
              "            style=\"display:none;\">\n",
              "\n",
              "<svg xmlns=\"http://www.w3.org/2000/svg\" height=\"24px\"viewBox=\"0 0 24 24\"\n",
              "     width=\"24px\">\n",
              "    <g>\n",
              "        <path d=\"M19 3H5c-1.1 0-2 .9-2 2v14c0 1.1.9 2 2 2h14c1.1 0 2-.9 2-2V5c0-1.1-.9-2-2-2zM9 17H7v-7h2v7zm4 0h-2V7h2v10zm4 0h-2v-4h2v4z\"/>\n",
              "    </g>\n",
              "</svg>\n",
              "  </button>\n",
              "\n",
              "<style>\n",
              "  .colab-df-quickchart {\n",
              "      --bg-color: #E8F0FE;\n",
              "      --fill-color: #1967D2;\n",
              "      --hover-bg-color: #E2EBFA;\n",
              "      --hover-fill-color: #174EA6;\n",
              "      --disabled-fill-color: #AAA;\n",
              "      --disabled-bg-color: #DDD;\n",
              "  }\n",
              "\n",
              "  [theme=dark] .colab-df-quickchart {\n",
              "      --bg-color: #3B4455;\n",
              "      --fill-color: #D2E3FC;\n",
              "      --hover-bg-color: #434B5C;\n",
              "      --hover-fill-color: #FFFFFF;\n",
              "      --disabled-bg-color: #3B4455;\n",
              "      --disabled-fill-color: #666;\n",
              "  }\n",
              "\n",
              "  .colab-df-quickchart {\n",
              "    background-color: var(--bg-color);\n",
              "    border: none;\n",
              "    border-radius: 50%;\n",
              "    cursor: pointer;\n",
              "    display: none;\n",
              "    fill: var(--fill-color);\n",
              "    height: 32px;\n",
              "    padding: 0;\n",
              "    width: 32px;\n",
              "  }\n",
              "\n",
              "  .colab-df-quickchart:hover {\n",
              "    background-color: var(--hover-bg-color);\n",
              "    box-shadow: 0 1px 2px rgba(60, 64, 67, 0.3), 0 1px 3px 1px rgba(60, 64, 67, 0.15);\n",
              "    fill: var(--button-hover-fill-color);\n",
              "  }\n",
              "\n",
              "  .colab-df-quickchart-complete:disabled,\n",
              "  .colab-df-quickchart-complete:disabled:hover {\n",
              "    background-color: var(--disabled-bg-color);\n",
              "    fill: var(--disabled-fill-color);\n",
              "    box-shadow: none;\n",
              "  }\n",
              "\n",
              "  .colab-df-spinner {\n",
              "    border: 2px solid var(--fill-color);\n",
              "    border-color: transparent;\n",
              "    border-bottom-color: var(--fill-color);\n",
              "    animation:\n",
              "      spin 1s steps(1) infinite;\n",
              "  }\n",
              "\n",
              "  @keyframes spin {\n",
              "    0% {\n",
              "      border-color: transparent;\n",
              "      border-bottom-color: var(--fill-color);\n",
              "      border-left-color: var(--fill-color);\n",
              "    }\n",
              "    20% {\n",
              "      border-color: transparent;\n",
              "      border-left-color: var(--fill-color);\n",
              "      border-top-color: var(--fill-color);\n",
              "    }\n",
              "    30% {\n",
              "      border-color: transparent;\n",
              "      border-left-color: var(--fill-color);\n",
              "      border-top-color: var(--fill-color);\n",
              "      border-right-color: var(--fill-color);\n",
              "    }\n",
              "    40% {\n",
              "      border-color: transparent;\n",
              "      border-right-color: var(--fill-color);\n",
              "      border-top-color: var(--fill-color);\n",
              "    }\n",
              "    60% {\n",
              "      border-color: transparent;\n",
              "      border-right-color: var(--fill-color);\n",
              "    }\n",
              "    80% {\n",
              "      border-color: transparent;\n",
              "      border-right-color: var(--fill-color);\n",
              "      border-bottom-color: var(--fill-color);\n",
              "    }\n",
              "    90% {\n",
              "      border-color: transparent;\n",
              "      border-bottom-color: var(--fill-color);\n",
              "    }\n",
              "  }\n",
              "</style>\n",
              "\n",
              "  <script>\n",
              "    async function quickchart(key) {\n",
              "      const quickchartButtonEl =\n",
              "        document.querySelector('#' + key + ' button');\n",
              "      quickchartButtonEl.disabled = true;  // To prevent multiple clicks.\n",
              "      quickchartButtonEl.classList.add('colab-df-spinner');\n",
              "      try {\n",
              "        const charts = await google.colab.kernel.invokeFunction(\n",
              "            'suggestCharts', [key], {});\n",
              "      } catch (error) {\n",
              "        console.error('Error during call to suggestCharts:', error);\n",
              "      }\n",
              "      quickchartButtonEl.classList.remove('colab-df-spinner');\n",
              "      quickchartButtonEl.classList.add('colab-df-quickchart-complete');\n",
              "    }\n",
              "    (() => {\n",
              "      let quickchartButtonEl =\n",
              "        document.querySelector('#df-a65c905b-8e8d-4345-b1be-1efae63b0bc9 button');\n",
              "      quickchartButtonEl.style.display =\n",
              "        google.colab.kernel.accessAllowed ? 'block' : 'none';\n",
              "    })();\n",
              "  </script>\n",
              "</div>\n",
              "\n",
              "    </div>\n",
              "  </div>\n"
            ],
            "application/vnd.google.colaboratory.intrinsic+json": {
              "type": "dataframe",
              "variable_name": "test_data",
              "summary": "{\n  \"name\": \"test_data\",\n  \"rows\": 125,\n  \"fields\": [\n    {\n      \"column\": \"Date\",\n      \"properties\": {\n        \"dtype\": \"string\",\n        \"num_unique_values\": 125,\n        \"samples\": [\n          \"29/01/2018\",\n          \"05/03/2018\",\n          \"23/02/2018\"\n        ],\n        \"semantic_type\": \"\",\n        \"description\": \"\"\n      }\n    },\n    {\n      \"column\": \"Open\",\n      \"properties\": {\n        \"dtype\": \"number\",\n        \"std\": 47.79342863860253,\n        \"min\": 993.409973,\n        \"max\": 1177.329956,\n        \"num_unique_values\": 124,\n        \"samples\": [\n          1176.47998,\n          1075.140015,\n          1112.640015\n        ],\n        \"semantic_type\": \"\",\n        \"description\": \"\"\n      }\n    },\n    {\n      \"column\": \"High\",\n      \"properties\": {\n        \"dtype\": \"number\",\n        \"std\": 45.2207280418645,\n        \"min\": 1020.98999,\n        \"max\": 1186.890015,\n        \"num_unique_values\": 125,\n        \"samples\": [\n          1186.890015,\n          1097.099976,\n          1127.280029\n        ],\n        \"semantic_type\": \"\",\n        \"description\": \"\"\n      }\n    },\n    {\n      \"column\": \"Low\",\n      \"properties\": {\n        \"dtype\": \"number\",\n        \"std\": 49.907919085837946,\n        \"min\": 980.640015,\n        \"max\": 1171.97998,\n        \"num_unique_values\": 124,\n        \"samples\": [\n          1171.97998,\n          1069.0,\n          1104.713989\n        ],\n        \"semantic_type\": \"\",\n        \"description\": \"\"\n      }\n    },\n    {\n      \"column\": \"Close\",\n      \"properties\": {\n        \"dtype\": \"number\",\n        \"std\": 48.04455096387223,\n        \"min\": 1001.52002,\n        \"max\": 1175.839966,\n        \"num_unique_values\": 125,\n        \"samples\": [\n          1175.579956,\n          1090.930054,\n          1126.790039\n        ],\n        \"semantic_type\": \"\",\n        \"description\": \"\"\n      }\n    },\n    {\n      \"column\": \"Volume\",\n      \"properties\": {\n        \"dtype\": \"number\",\n        \"std\": 720763,\n        \"min\": 756800,\n        \"max\": 4857900,\n        \"num_unique_values\": 125,\n        \"samples\": [\n          1378900,\n          1202200,\n          1261000\n        ],\n        \"semantic_type\": \"\",\n        \"description\": \"\"\n      }\n    }\n  ]\n}"
            }
          },
          "metadata": {},
          "execution_count": 64
        }
      ]
    },
    {
      "cell_type": "code",
      "source": [
        "real_prices=test_data.iloc[:,1:2].values"
      ],
      "metadata": {
        "id": "LhlYryZ1bnK4"
      },
      "execution_count": 65,
      "outputs": []
    },
    {
      "cell_type": "code",
      "source": [
        "real_prices.shape"
      ],
      "metadata": {
        "colab": {
          "base_uri": "https://localhost:8080/"
        },
        "id": "-IuKxw4wbuIn",
        "outputId": "d0889d61-e491-41bc-992d-93496604adec"
      },
      "execution_count": 66,
      "outputs": [
        {
          "output_type": "execute_result",
          "data": {
            "text/plain": [
              "(125, 1)"
            ]
          },
          "metadata": {},
          "execution_count": 66
        }
      ]
    },
    {
      "cell_type": "code",
      "source": [
        "total_data=pd.concat((data['Open'],test_data['Open']),axis=0)\n",
        "inputs=total_data[len(total_data) - len(test_data) - 60:].values"
      ],
      "metadata": {
        "id": "zjFEYyWfbwHn"
      },
      "execution_count": 67,
      "outputs": []
    },
    {
      "cell_type": "code",
      "source": [
        "inputs=inputs.reshape(-1, 1)\n",
        "inputs=sc.transform(inputs)\n"
      ],
      "metadata": {
        "id": "hQ6FDRrSb693"
      },
      "execution_count": 68,
      "outputs": []
    },
    {
      "cell_type": "code",
      "source": [
        "x_test=[]\n",
        "for i in range(60,len(inputs)):\n",
        "  x_test.append(inputs[i-60:i,0])\n",
        "\n",
        "x_test=np.array(x_test)\n",
        "x_test=np.reshape(x_test,newshape=(x_test.shape[0],x_test.shape[1],1))"
      ],
      "metadata": {
        "id": "amVA0tfdcjLR"
      },
      "execution_count": 70,
      "outputs": []
    },
    {
      "cell_type": "code",
      "source": [
        "predicted_price=model.predict(x_test)"
      ],
      "metadata": {
        "colab": {
          "base_uri": "https://localhost:8080/"
        },
        "id": "ph0IYDmRdzUC",
        "outputId": "8dd83db1-e518-4031-fa46-a0704ea1e691"
      },
      "execution_count": 71,
      "outputs": [
        {
          "output_type": "stream",
          "name": "stdout",
          "text": [
            "4/4 [==============================] - 2s 30ms/step\n"
          ]
        }
      ]
    },
    {
      "cell_type": "code",
      "source": [
        "predicted_price=sc.inverse_transform(predicted_price)"
      ],
      "metadata": {
        "id": "Gqv0lfsDi1XO"
      },
      "execution_count": 72,
      "outputs": []
    },
    {
      "cell_type": "code",
      "source": [
        "\n",
        "plt.plot(real_prices, color='red', label='real price')\n",
        "plt.plot(predicted_price, color='blue', label='predicted price')\n",
        "# Change the variable name here\n",
        "\n",
        "plt.legend()\n",
        "plt.show()\n"
      ],
      "metadata": {
        "colab": {
          "base_uri": "https://localhost:8080/",
          "height": 430
        },
        "id": "JCtNeJKqjJUl",
        "outputId": "0b38b4de-0ff1-44e9-e174-c44513abcbea"
      },
      "execution_count": 82,
      "outputs": [
        {
          "output_type": "display_data",
          "data": {
            "text/plain": [
              "<Figure size 640x480 with 1 Axes>"
            ],
            "image/png": "[encoded data removed]"
          },
          "metadata": {}
        }
      ]
    },
    {
      "cell_type": "code",
      "source": [],
      "metadata": {
        "id": "89Shv5m0jsK_"
      },
      "execution_count": null,
      "outputs": []
    }
  ]
}