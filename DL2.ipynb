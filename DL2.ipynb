{
  "nbformat": 4,
  "nbformat_minor": 0,
  "metadata": {
    "colab": {
      "provenance": []
    },
    "kernelspec": {
      "name": "python3",
      "display_name": "Python 3"
    },
    "language_info": {
      "name": "python"
    }
  },
  "cells": [
    {
      "cell_type": "code",
      "execution_count": 3,
      "metadata": {
        "id": "YUaBorewXS4c"
      },
      "outputs": [],
      "source": [
        "import numpy as np\n",
        "from tensorflow.keras.datasets import imdb\n",
        "from tensorflow.keras import layers,models"
      ]
    },
    {
      "cell_type": "code",
      "source": [
        "(train_data,train_lables),(test_data,test_lables)=imdb.load_data(num_words=10000)"
      ],
      "metadata": {
        "colab": {
          "base_uri": "https://localhost:8080/"
        },
        "id": "v0ahLLFrXkUk",
        "outputId": "1986c97f-c932-4fe4-fbd0-aa5f175590e8"
      },
      "execution_count": 4,
      "outputs": [
        {
          "output_type": "stream",
          "name": "stdout",
          "text": [
            "Downloading data from https://storage.googleapis.com/tensorflow/tf-keras-datasets/imdb.npz\n",
            "17464789/17464789 [==============================] - 0s 0us/step\n"
          ]
        }
      ]
    },
    {
      "cell_type": "code",
      "source": [
        "train_lables[0]"
      ],
      "metadata": {
        "colab": {
          "base_uri": "https://localhost:8080/"
        },
        "id": "94Ef--DxX30f",
        "outputId": "9baefe2d-d01d-4d5a-ed53-ecff8a4ee9e3"
      },
      "execution_count": 5,
      "outputs": [
        {
          "output_type": "execute_result",
          "data": {
            "text/plain": [
              "1"
            ]
          },
          "metadata": {},
          "execution_count": 5
        }
      ]
    },
    {
      "cell_type": "code",
      "source": [
        "word_index=imdb.get_word_index()\n",
        "rev_word_index=dict([(value,key) for (key,value) in word_index.items()])"
      ],
      "metadata": {
        "colab": {
          "base_uri": "https://localhost:8080/"
        },
        "id": "_HSrgbeUX6Up",
        "outputId": "41186ef7-c628-4100-9b68-4c7d785494a8"
      },
      "execution_count": 8,
      "outputs": [
        {
          "output_type": "stream",
          "name": "stdout",
          "text": [
            "Downloading data from https://storage.googleapis.com/tensorflow/tf-keras-datasets/imdb_word_index.json\n",
            "1641221/1641221 [==============================] - 0s 0us/step\n"
          ]
        }
      ]
    },
    {
      "cell_type": "code",
      "source": [
        "decode=' '.join([rev_word_index.get(i-3,'?')for i in train_data[0]])\n",
        "decode"
      ],
      "metadata": {
        "colab": {
          "base_uri": "https://localhost:8080/",
          "height": 139
        },
        "id": "_0B3d4FRYQ9d",
        "outputId": "7380e3e5-166a-4094-be01-fc2074ea71cb"
      },
      "execution_count": 9,
      "outputs": [
        {
          "output_type": "execute_result",
          "data": {
            "text/plain": [
              "\"? this film was just brilliant casting location scenery story direction everyone's really suited the part they played and you could just imagine being there robert ? is an amazing actor and now the same being director ? father came from the same scottish island as myself so i loved the fact there was a real connection with this film the witty remarks throughout the film were great it was just brilliant so much that i bought the film as soon as it was released for ? and would recommend it to everyone to watch and the fly fishing was amazing really cried at the end it was so sad and you know what they say if you cry at a film it must have been good and this definitely was also ? to the two little boy's that played the ? of norman and paul they were just brilliant children are often left out of the ? list i think because the stars that play them all grown up are such a big profile for the whole film but these children are amazing and should be praised for what they have done don't you think the whole story was so lovely because it was true and was someone's life after all that was shared with us all\""
            ],
            "application/vnd.google.colaboratory.intrinsic+json": {
              "type": "string"
            }
          },
          "metadata": {},
          "execution_count": 9
        }
      ]
    },
    {
      "cell_type": "code",
      "source": [
        "def sequence_vec(sequences,dimensions=10000):\n",
        "  results=np.zeros((len(sequences),dimensions))\n",
        "  for i,seq in enumerate(sequences):\n",
        "    results[i,seq]=1\n",
        "  return results"
      ],
      "metadata": {
        "id": "M7UrdUNjYrsB"
      },
      "execution_count": 10,
      "outputs": []
    },
    {
      "cell_type": "code",
      "source": [
        "x_train=sequence_vec(train_data)\n",
        "x_test=np.asarray(train_lables).astype('float32')\n",
        "y_train=sequence_vec(test_data)\n",
        "y_test=np.asarray(test_lables).astype('float32')"
      ],
      "metadata": {
        "id": "8mQzfDNBZSu4"
      },
      "execution_count": 11,
      "outputs": []
    },
    {
      "cell_type": "code",
      "source": [
        "x_train[0]"
      ],
      "metadata": {
        "colab": {
          "base_uri": "https://localhost:8080/"
        },
        "id": "_1rELFUkaGk1",
        "outputId": "4f1d1ad7-32ba-472d-c195-686fe7760e65"
      },
      "execution_count": 12,
      "outputs": [
        {
          "output_type": "execute_result",
          "data": {
            "text/plain": [
              "array([0., 1., 1., ..., 0., 0., 0.])"
            ]
          },
          "metadata": {},
          "execution_count": 12
        }
      ]
    },
    {
      "cell_type": "code",
      "source": [
        "x_test[0]"
      ],
      "metadata": {
        "colab": {
          "base_uri": "https://localhost:8080/"
        },
        "id": "tP8hvC-aaLJa",
        "outputId": "77fe1d96-1019-4a06-8888-dff0ff7212e5"
      },
      "execution_count": 13,
      "outputs": [
        {
          "output_type": "execute_result",
          "data": {
            "text/plain": [
              "1.0"
            ]
          },
          "metadata": {},
          "execution_count": 13
        }
      ]
    },
    {
      "cell_type": "code",
      "source": [
        "y_train[0]"
      ],
      "metadata": {
        "colab": {
          "base_uri": "https://localhost:8080/"
        },
        "id": "z_IfpqopaNRc",
        "outputId": "7e4ca190-308d-4af7-ce48-6369e875c081"
      },
      "execution_count": 14,
      "outputs": [
        {
          "output_type": "execute_result",
          "data": {
            "text/plain": [
              "array([0., 1., 1., ..., 0., 0., 0.])"
            ]
          },
          "metadata": {},
          "execution_count": 14
        }
      ]
    },
    {
      "cell_type": "code",
      "source": [
        "y_test[0]"
      ],
      "metadata": {
        "colab": {
          "base_uri": "https://localhost:8080/"
        },
        "id": "KAc56W-KaQzr",
        "outputId": "9883526d-b68f-4efb-cec5-00f4fd16f290"
      },
      "execution_count": 15,
      "outputs": [
        {
          "output_type": "execute_result",
          "data": {
            "text/plain": [
              "0.0"
            ]
          },
          "metadata": {},
          "execution_count": 15
        }
      ]
    },
    {
      "cell_type": "code",
      "source": [
        "model=models.Sequential()\n"
      ],
      "metadata": {
        "id": "BhxfhyjMaTt8"
      },
      "execution_count": 19,
      "outputs": []
    },
    {
      "cell_type": "code",
      "source": [
        "model.add(layers.Dense(16,activation='relu',input_shape=(10000,)))\n",
        "model.add(layers.Dense(16,activation='relu'))\n",
        "model.add(layers.Dense(1,activation='sigmoid'))"
      ],
      "metadata": {
        "id": "nIL1--Paavmc"
      },
      "execution_count": 20,
      "outputs": []
    },
    {
      "cell_type": "code",
      "source": [
        "model.compile(optimizer='rmsprop',loss='binary_crossentropy',metrics=['Accuracy'])\n"
      ],
      "metadata": {
        "id": "uYYbvhFsbNg-"
      },
      "execution_count": 22,
      "outputs": []
    },
    {
      "cell_type": "code",
      "source": [
        "x_val=x_train[:10000]\n",
        "x_partial=x_train[10000:]\n",
        "x_test_val=x_test[:10000]\n",
        "x_test_partial=x_test[10000:]"
      ],
      "metadata": {
        "id": "FlDwGA-9bbXK"
      },
      "execution_count": 23,
      "outputs": []
    },
    {
      "cell_type": "code",
      "source": [
        "model.fit(x_partial,x_test_partial,epochs=30,validation_data=(x_val,x_test_val),batch_size=510)"
      ],
      "metadata": {
        "colab": {
          "base_uri": "https://localhost:8080/"
        },
        "id": "iSw_7qtZb74z",
        "outputId": "c08013e4-1f2a-4bc6-9085-f52d770063f8"
      },
      "execution_count": 24,
      "outputs": [
        {
          "output_type": "stream",
          "name": "stdout",
          "text": [
            "Epoch 1/30\n",
            "30/30 [==============================] - 5s 118ms/step - loss: 0.5305 - Accuracy: 0.7787 - val_loss: 0.4127 - val_Accuracy: 0.8574\n",
            "Epoch 2/30\n",
            "30/30 [==============================] - 1s 48ms/step - loss: 0.3318 - Accuracy: 0.8927 - val_loss: 0.3157 - val_Accuracy: 0.8856\n",
            "Epoch 3/30\n",
            "30/30 [==============================] - 1s 40ms/step - loss: 0.2479 - Accuracy: 0.9176 - val_loss: 0.3081 - val_Accuracy: 0.8743\n",
            "Epoch 4/30\n",
            "30/30 [==============================] - 1s 48ms/step - loss: 0.2032 - Accuracy: 0.9316 - val_loss: 0.2740 - val_Accuracy: 0.8899\n",
            "Epoch 5/30\n",
            "30/30 [==============================] - 1s 35ms/step - loss: 0.1680 - Accuracy: 0.9452 - val_loss: 0.2885 - val_Accuracy: 0.8830\n",
            "Epoch 6/30\n",
            "30/30 [==============================] - 1s 37ms/step - loss: 0.1437 - Accuracy: 0.9538 - val_loss: 0.2810 - val_Accuracy: 0.8881\n",
            "Epoch 7/30\n",
            "30/30 [==============================] - 1s 39ms/step - loss: 0.1243 - Accuracy: 0.9605 - val_loss: 0.2909 - val_Accuracy: 0.8845\n",
            "Epoch 8/30\n",
            "30/30 [==============================] - 1s 50ms/step - loss: 0.1051 - Accuracy: 0.9686 - val_loss: 0.3040 - val_Accuracy: 0.8851\n",
            "Epoch 9/30\n",
            "30/30 [==============================] - 2s 59ms/step - loss: 0.0939 - Accuracy: 0.9729 - val_loss: 0.3172 - val_Accuracy: 0.8809\n",
            "Epoch 10/30\n",
            "30/30 [==============================] - 1s 48ms/step - loss: 0.0781 - Accuracy: 0.9781 - val_loss: 0.3558 - val_Accuracy: 0.8720\n",
            "Epoch 11/30\n",
            "30/30 [==============================] - 1s 36ms/step - loss: 0.0694 - Accuracy: 0.9807 - val_loss: 0.3543 - val_Accuracy: 0.8807\n",
            "Epoch 12/30\n",
            "30/30 [==============================] - 1s 36ms/step - loss: 0.0581 - Accuracy: 0.9863 - val_loss: 0.3766 - val_Accuracy: 0.8757\n",
            "Epoch 13/30\n",
            "30/30 [==============================] - 1s 35ms/step - loss: 0.0480 - Accuracy: 0.9897 - val_loss: 0.3916 - val_Accuracy: 0.8776\n",
            "Epoch 14/30\n",
            "30/30 [==============================] - 1s 34ms/step - loss: 0.0431 - Accuracy: 0.9899 - val_loss: 0.4153 - val_Accuracy: 0.8770\n",
            "Epoch 15/30\n",
            "30/30 [==============================] - 1s 35ms/step - loss: 0.0348 - Accuracy: 0.9930 - val_loss: 0.4505 - val_Accuracy: 0.8730\n",
            "Epoch 16/30\n",
            "30/30 [==============================] - 1s 36ms/step - loss: 0.0320 - Accuracy: 0.9933 - val_loss: 0.4614 - val_Accuracy: 0.8733\n",
            "Epoch 17/30\n",
            "30/30 [==============================] - 1s 36ms/step - loss: 0.0219 - Accuracy: 0.9967 - val_loss: 0.4847 - val_Accuracy: 0.8735\n",
            "Epoch 18/30\n",
            "30/30 [==============================] - 1s 36ms/step - loss: 0.0207 - Accuracy: 0.9973 - val_loss: 0.5096 - val_Accuracy: 0.8731\n",
            "Epoch 19/30\n",
            "30/30 [==============================] - 2s 57ms/step - loss: 0.0183 - Accuracy: 0.9969 - val_loss: 0.5337 - val_Accuracy: 0.8696\n",
            "Epoch 20/30\n",
            "30/30 [==============================] - 1s 48ms/step - loss: 0.0151 - Accuracy: 0.9979 - val_loss: 0.5522 - val_Accuracy: 0.8731\n",
            "Epoch 21/30\n",
            "30/30 [==============================] - 1s 33ms/step - loss: 0.0122 - Accuracy: 0.9989 - val_loss: 0.5747 - val_Accuracy: 0.8715\n",
            "Epoch 22/30\n",
            "30/30 [==============================] - 1s 36ms/step - loss: 0.0096 - Accuracy: 0.9994 - val_loss: 0.6002 - val_Accuracy: 0.8717\n",
            "Epoch 23/30\n",
            "30/30 [==============================] - 1s 47ms/step - loss: 0.0112 - Accuracy: 0.9979 - val_loss: 0.6205 - val_Accuracy: 0.8716\n",
            "Epoch 24/30\n",
            "30/30 [==============================] - 1s 36ms/step - loss: 0.0053 - Accuracy: 0.9998 - val_loss: 0.6432 - val_Accuracy: 0.8704\n",
            "Epoch 25/30\n",
            "30/30 [==============================] - 1s 36ms/step - loss: 0.0074 - Accuracy: 0.9993 - val_loss: 0.6624 - val_Accuracy: 0.8700\n",
            "Epoch 26/30\n",
            "30/30 [==============================] - 1s 35ms/step - loss: 0.0074 - Accuracy: 0.9987 - val_loss: 0.6810 - val_Accuracy: 0.8665\n",
            "Epoch 27/30\n",
            "30/30 [==============================] - 1s 36ms/step - loss: 0.0032 - Accuracy: 0.9999 - val_loss: 0.7173 - val_Accuracy: 0.8688\n",
            "Epoch 28/30\n",
            "30/30 [==============================] - 1s 35ms/step - loss: 0.0088 - Accuracy: 0.9974 - val_loss: 0.7234 - val_Accuracy: 0.8697\n",
            "Epoch 29/30\n",
            "30/30 [==============================] - 1s 33ms/step - loss: 0.0023 - Accuracy: 0.9999 - val_loss: 0.7398 - val_Accuracy: 0.8677\n",
            "Epoch 30/30\n",
            "30/30 [==============================] - 2s 57ms/step - loss: 0.0047 - Accuracy: 0.9991 - val_loss: 0.7581 - val_Accuracy: 0.8677\n"
          ]
        },
        {
          "output_type": "execute_result",
          "data": {
            "text/plain": [
              "<keras.src.callbacks.History at 0x7b41bb2952a0>"
            ]
          },
          "metadata": {},
          "execution_count": 24
        }
      ]
    },
    {
      "cell_type": "code",
      "source": [
        "loss1,acc1=model.evaluate(x_train,x_test)\n",
        "print(\"Training accuracy :\",acc1)"
      ],
      "metadata": {
        "colab": {
          "base_uri": "https://localhost:8080/"
        },
        "id": "Hn5qoGDJcMWt",
        "outputId": "f3379f00-9777-4ccc-8c07-21172c4c3fcb"
      },
      "execution_count": 25,
      "outputs": [
        {
          "output_type": "stream",
          "name": "stdout",
          "text": [
            "782/782 [==============================] - 2s 2ms/step - loss: 0.3043 - Accuracy: 0.9470\n",
            "Training accuracy : 0.9470400214195251\n"
          ]
        }
      ]
    },
    {
      "cell_type": "code",
      "source": [
        "loss2,acc2=model.evaluate(y_train,y_test)\n",
        "print(\"Test accuracy :\",acc2)"
      ],
      "metadata": {
        "colab": {
          "base_uri": "https://localhost:8080/"
        },
        "id": "E9FtyPEzcoCg",
        "outputId": "0ce5c74c-ab0b-4dec-cec9-b19b7a6d1212"
      },
      "execution_count": 26,
      "outputs": [
        {
          "output_type": "stream",
          "name": "stdout",
          "text": [
            "782/782 [==============================] - 2s 3ms/step - loss: 0.8125 - Accuracy: 0.8580\n",
            "Test accuracy : 0.8580399751663208\n"
          ]
        }
      ]
    },
    {
      "cell_type": "code",
      "source": [],
      "metadata": {
        "id": "ywelePric19J"
      },
      "execution_count": null,
      "outputs": []
    }
  ]
}